{
 "cells": [
  {
   "cell_type": "code",
   "execution_count": 47,
   "metadata": {
    "collapsed": false
   },
   "outputs": [
    {
     "name": "stdout",
     "output_type": "stream",
     "text": [
      "Using matplotlib backend: MacOSX\n"
     ]
    },
    {
     "data": {
      "text/plain": [
       "'3.1.0'"
      ]
     },
     "execution_count": 47,
     "metadata": {},
     "output_type": "execute_result"
    }
   ],
   "source": [
    "import cv2\n",
    "import matplotlib.pyplot as plt\n",
    "import numpy as np\n",
    "%matplotlib auto\n",
    "\n",
    "cv2.__version__"
   ]
  },
  {
   "cell_type": "code",
   "execution_count": 58,
   "metadata": {
    "collapsed": false,
    "scrolled": false
   },
   "outputs": [],
   "source": [
    "idxList = []\n",
    "def onclick(event):\n",
    "    print('button=%d, x=%d, y=%d, xdata=%f, ydata=%f' %\n",
    "          (event.button, event.x, event.y, event.xdata, event.ydata))\n",
    "    global idxList\n",
    "    idxList.append([event.xdata, event.ydata])\n",
    "\n",
    "def getPoint(x,y,img):\n",
    "    temp = cv2.cvtColor(img,cv2.COLOR_BGR2GRAY)\n",
    "    return temp[x,y]\n",
    "\n",
    "def getLineSegment(x1,x2,y,img):\n",
    "    temp = cv2.cvtColor(img,cv2.COLOR_BGR2GRAY)\n",
    "    return temp[x1:x2,y]\n",
    "\n",
    "def colorFromIdx(idx, frame):\n",
    "    x,y = idx \n",
    "    return frame[int(y), int(x), :]\n",
    "\n",
    "def plotMask(idx, frame):\n",
    "    idColor = colorFromIdx(idx, frame)\n",
    "    offset = 20\n",
    "    mask = np.zeros(frame.shape)\n",
    "    for ii,color in enumerate(idColor):\n",
    "        mask[:,:,ii] = (frame[:,:,ii] > color-offset) & (frame[:,:,ii]<color+offset)\n",
    "\n",
    "    plt.figure()\n",
    "    plt.imshow(np.sum(mask,axis=2))\n",
    "    plt.title(str(idx))\n",
    "\n",
    "def plotRefPoint(idx, ax):\n",
    "    x,y = idx \n",
    "    ax.scatter(int(x), int(y))\n",
    "    \n",
    "def getMask(idColor, frame):\n",
    "    offset = 20\n",
    "    mask = np.zeros(frame.shape)\n",
    "    for ii,color in enumerate(idColor):\n",
    "        mask[:,:,ii] = (frame[:,:,ii] > color-offset) & (frame[:,:,ii]<color+offset) \n",
    "    mask = np.sum(mask, axis=2) ==3\n",
    "    return mask\n",
    "\n",
    "def getBlob(mask):\n",
    "    blob = cv2.dilate(mask.astype(np.uint8), kernel)\n",
    "    return blob\n",
    "\n",
    "def getCentroid(blob):\n",
    "    blob[blob==0] = 255\n",
    "    blob[blob==1] = 0\n",
    "    keypoints = detector.detect(blob)\n",
    "    return keypoints"
   ]
  },
  {
   "cell_type": "code",
   "execution_count": 49,
   "metadata": {
    "collapsed": false
   },
   "outputs": [
    {
     "name": "stdout",
     "output_type": "stream",
     "text": [
      "button=1, x=285, y=147, xdata=33.666667, ydata=237.000000\n",
      "button=1, x=276, y=183, xdata=26.166667, ydata=207.000000\n",
      "button=1, x=276, y=179, xdata=26.166667, ydata=210.333333\n",
      "button=1, x=275, y=190, xdata=25.333333, ydata=201.166667\n"
     ]
    }
   ],
   "source": [
    "frameOffset = 300\n",
    "bufLen = 5\n",
    "\n",
    "# get these with mouse clicks later\n",
    "x1 = 150\n",
    "x2 = 470\n",
    "y1 = 290\n",
    "y2 = 450\n",
    "\n",
    "# grab and display a frame during run\n",
    "cap = cv2.VideoCapture('test.mp4')\n",
    "cap.set(cv2.CAP_PROP_POS_FRAMES,frameOffset)\n",
    "fs = cap.get(cv2.CAP_PROP_FPS)\n",
    "\n",
    "ret,frame = cap.read()\n",
    "frame = frame[x1:x2, y1:y2, :]\n",
    "figRef = plt.figure()\n",
    "axRef = figRef.add_subplot(111)\n",
    "axRef.imshow(frame)\n",
    "\n",
    "# mouse click on columns to histogram\n",
    "cid = figRef.canvas.mpl_connect('button_press_event', onclick);\n",
    "\n",
    "# Set up the SimpleBlobdetector with default parameters.\n",
    "params = cv2.SimpleBlobDetector_Params()\n",
    "\n",
    "# Change thresholds\n",
    "params.minThreshold = 0;\n",
    "params.maxThreshold = 256;\n",
    "\n",
    "# Filter by Area.\n",
    "params.filterByArea = True\n",
    "params.minArea = 5\n",
    "\n",
    "# Filter by Circularity\n",
    "params.filterByCircularity = False\n",
    "params.minCircularity = 0.1\n",
    "\n",
    "# Filter by Convexity\n",
    "params.filterByConvexity = False\n",
    "params.minConvexity = 0.5\n",
    "\n",
    "# Filter by Inertia\n",
    "params.filterByInertia = False\n",
    "params.minInertiaRatio = 0.5\n",
    "\n",
    "detector = cv2.SimpleBlobDetector_create(params)\n"
   ]
  },
  {
   "cell_type": "code",
   "execution_count": 50,
   "metadata": {
    "collapsed": false
   },
   "outputs": [],
   "source": [
    "figRef.canvas.mpl_disconnect(cid);\n",
    "    \n",
    "for idx in idxList:    \n",
    "    plotMask(idx,frame)\n",
    "    plotRefPoint(idx,axRef)\n",
    "    \n"
   ]
  },
  {
   "cell_type": "code",
   "execution_count": 52,
   "metadata": {
    "collapsed": false
   },
   "outputs": [
    {
     "data": {
      "text/plain": [
       "True"
      ]
     },
     "execution_count": 52,
     "metadata": {},
     "output_type": "execute_result"
    }
   ],
   "source": [
    "DISP = False\n",
    "kernel = cv2.getStructuringElement(cv2.MORPH_ELLIPSE, (30,30))\n",
    "frameSkip = 0\n",
    "\n",
    "# add user input to choose the best starting point\n",
    "idx = idxList[1]\n",
    "x,y = idx\n",
    "idColor = colorFromIdx(idx, frame)\n",
    "xBuff = [x]\n",
    "yBuff = [y]\n",
    "\n",
    "cap = cv2.VideoCapture('test.mp4')\n",
    "cap.set(cv2.CAP_PROP_POS_FRAMES,frameSkip)\n",
    "ret,frame = cap.read()\n",
    "count = 0\n",
    "\n",
    "while ret:\n",
    "    count = count + 1\n",
    "    frame =  frame[x1:x2, y1:y2, :]\n",
    "    mask = getMask(idColor, frame)\n",
    "    blob = getBlob(mask)\n",
    "    \n",
    "    keypoints = getCentroid(blob)\n",
    "    \n",
    "    # if we find any blobs\n",
    "    if keypoints:\n",
    "        \n",
    "        # assume one and use that as the centroid\n",
    "        x,y = keypoints[0].pt\n",
    "        \n",
    "        # if more than one find the one closest to the last one\n",
    "        minVal = float('inf')\n",
    "        for kp in keypoints:\n",
    "            x,y = kp.pt\n",
    "            dist = np.power((x-xBuff[-1]),2)+np.power((y-yBuff[-1]),2)\n",
    "            if dist < minVal:\n",
    "                minVal = dist\n",
    "                xOut = x\n",
    "                yout = y\n",
    "                    \n",
    "                \n",
    "    else:\n",
    "        \n",
    "        # if no blob found then use the old value\n",
    "        # mostly we get here because the blob touches the edge of the image\n",
    "        if DISP:\n",
    "            print('Bad')\n",
    "        x = xBuff[-1]\n",
    "        y = yBuff[-1]\n",
    "        #input('')\n",
    "        \n",
    "    xBuff.append(x)\n",
    "    yBuff.append(y)\n",
    "    \n",
    "    \n",
    "    if DISP:\n",
    "        new = cv2.circle(blob, (int(x),int(y)), 5, 255, -1)\n",
    "        cv2.imshow('frame',new)\n",
    "        if cv2.waitKey(1) & 0xFF == ord('q'):\n",
    "            break\n",
    "\n",
    "    ret,frame = cap.read()\n",
    "\n",
    "\n",
    "cap.release()\n",
    "\n"
   ]
  },
  {
   "cell_type": "code",
   "execution_count": 53,
   "metadata": {
    "collapsed": false
   },
   "outputs": [
    {
     "name": "stdout",
     "output_type": "stream",
     "text": [
      "Total Steps = 765\n"
     ]
    }
   ],
   "source": [
    "cv2.destroyAllWindows()\n",
    "\n",
    "# user input to figure out true offset\n",
    "frameOffset = 500\n",
    "\n",
    "# low pass filter to smooth\n",
    "N=10\n",
    "fc = fs/40.\n",
    "\n",
    "import scipy.signal as sp\n",
    "\n",
    "# use firwin with arbitrary Fs\n",
    "h=sp.firwin( numtaps=N, cutoff=fc, nyq=fs/2)\n",
    "y=sp.lfilter( h, 1.0, yBuff) # 'x' is the time-series data you are filtering\n",
    "\n",
    "\n",
    "# count number of positive inflextions points (first derivative zero / second neg)\n",
    "dy = np.diff(y)\n",
    "dy[dy>0] = 1\n",
    "dy[dy<0] = -1\n",
    "ddy = np.diff(dy)\n",
    "ddy[ddy>0] = 0\n",
    "totalSteps = np.count_nonzero(ddy[frameOffset:25700])\n",
    "\n",
    "print('Total Steps = %d'%totalSteps)"
   ]
  }
 ],
 "metadata": {
  "anaconda-cloud": {},
  "kernelspec": {
   "display_name": "Python [default]",
   "language": "python",
   "name": "python3"
  },
  "language_info": {
   "codemirror_mode": {
    "name": "ipython",
    "version": 3
   },
   "file_extension": ".py",
   "mimetype": "text/x-python",
   "name": "python",
   "nbconvert_exporter": "python",
   "pygments_lexer": "ipython3",
   "version": "3.5.2"
  }
 },
 "nbformat": 4,
 "nbformat_minor": 1
}
