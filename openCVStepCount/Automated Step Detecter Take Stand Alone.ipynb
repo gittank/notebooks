{
 "cells": [
  {
   "cell_type": "code",
   "execution_count": 77,
   "metadata": {
    "collapsed": false
   },
   "outputs": [
    {
     "name": "stdout",
     "output_type": "stream",
     "text": [
      "Using matplotlib backend: MacOSX\n"
     ]
    },
    {
     "data": {
      "text/plain": [
       "'3.1.0'"
      ]
     },
     "execution_count": 77,
     "metadata": {},
     "output_type": "execute_result"
    }
   ],
   "source": [
    "import cv2\n",
    "import matplotlib.pyplot as plt\n",
    "import numpy as np\n",
    "%matplotlib auto\n",
    "\n",
    "cv2.__version__"
   ]
  },
  {
   "cell_type": "code",
   "execution_count": 78,
   "metadata": {
    "collapsed": false,
    "scrolled": false
   },
   "outputs": [],
   "source": [
    "colList = []\n",
    "def onclick(event):\n",
    "    print('button=%d, x=%d, y=%d, xdata=%f, ydata=%f' %\n",
    "          (event.button, event.x, event.y, event.xdata, event.ydata))\n",
    "    global colList\n",
    "    colList.append(event.x)\n",
    "\n",
    "def getPoint(x,y,img):\n",
    "    temp = cv2.cvtColor(img,cv2.COLOR_BGR2GRAY)\n",
    "    return temp[x,y]\n",
    "\n",
    "def getLineSegment(x1,x2,y,img):\n",
    "    temp = cv2.cvtColor(img,cv2.COLOR_BGR2GRAY)\n",
    "    return temp[x1:x2,y]"
   ]
  },
  {
   "cell_type": "code",
   "execution_count": 79,
   "metadata": {
    "collapsed": false
   },
   "outputs": [
    {
     "name": "stdout",
     "output_type": "stream",
     "text": [
      "button=1, x=264, y=105, xdata=236.919355, ydata=413.693548\n",
      "button=1, x=274, y=107, xdata=249.822581, ydata=411.112903\n",
      "button=1, x=282, y=107, xdata=260.145161, ydata=411.112903\n",
      "button=1, x=290, y=107, xdata=270.467742, ydata=411.112903\n",
      "button=1, x=301, y=127, xdata=284.661290, ydata=385.306452\n"
     ]
    }
   ],
   "source": [
    "frameOffset = 300\n",
    "bufLen = 5\n",
    "\n",
    "# grab and display a frame during run\n",
    "cap = cv2.VideoCapture('test.mp4')\n",
    "cap.set(cv2.CAP_PROP_POS_FRAMES,frameOffset)\n",
    "ret,frame = cap.read()\n",
    "fig = plt.figure()\n",
    "ax = fig.add_subplot(111)\n",
    "ax.imshow(frame)\n",
    "\n",
    "# mouse click on columns to histogram\n",
    "cid = fig.canvas.mpl_connect('button_press_event', onclick);\n"
   ]
  },
  {
   "cell_type": "code",
   "execution_count": 80,
   "metadata": {
    "collapsed": false,
    "scrolled": false
   },
   "outputs": [
    {
     "data": {
      "text/plain": [
       "True"
      ]
     },
     "execution_count": 80,
     "metadata": {},
     "output_type": "execute_result"
    }
   ],
   "source": [
    "# get these with mouse clicks later\n",
    "x1 = 300\n",
    "x2 = 470\n",
    "\n",
    "cap = cv2.VideoCapture('test.mp4')\n",
    "cap.set(cv2.CAP_PROP_POS_FRAMES,0)\n",
    "\n",
    "ret,frame = cap.read()\n",
    "pixel = getLineSegment(x1,x2,colList[0],frame) \n",
    "buffer = np.tile(pixel, [2,numSubBuff,1])\n",
    "subBuff = buffer[1,:,:].copy()\n",
    "\n",
    "ret,frame = cap.read()\n",
    "while ret:\n",
    "\n",
    "    # create sub buffer\n",
    "    for ii in range(0,numSubBuff):\n",
    "        y = colList[ii]\n",
    "        new = getLineSegment(x1,x2,y,frame) \n",
    "        subBuff[ii,:] = new    \n",
    "    \n",
    "    # append to main buffer\n",
    "    buffer = np.append(buffer, np.expand_dims(subBuff, axis=0), axis=0)\n",
    "    \n",
    "    # read next frame\n",
    "    ret,frame = cap.read()\n",
    "\n",
    "cap.release()\n",
    "\n"
   ]
  },
  {
   "cell_type": "code",
   "execution_count": 81,
   "metadata": {
    "collapsed": false
   },
   "outputs": [
    {
     "data": {
      "text/plain": [
       "1107"
      ]
     },
     "execution_count": 81,
     "metadata": {},
     "output_type": "execute_result"
    }
   ],
   "source": [
    "# mask traces (remove noise) and aggregate\n",
    "noiseThreshold = 90\n",
    "buffer = buffer>noiseThreshold\n",
    "out = np.sum(buffer, axis=1)\n",
    "out = np.sum(out, axis=1)\n",
    "\n",
    "# low pass filter to smooth\n",
    "N=10\n",
    "Fc=40\n",
    "Fs=1600\n",
    "import scipy.signal as sp\n",
    "\n",
    "# use firwin with arbitrary Fs\n",
    "h=sp.firwin( numtaps=N, cutoff=40, nyq=Fs/2)\n",
    "y=sp.lfilter( h, 1.0, out) # 'x' is the time-series data you are filtering\n",
    "\n",
    "\n",
    "# count number of positive inflextions points (first derivative zero / second neg)\n",
    "dy = np.diff(y)\n",
    "dy[dy>0] = 1\n",
    "dy[dy<0] = -1\n",
    "ddy = np.diff(dy)\n",
    "ddy[ddy>0] = 0\n",
    "np.count_nonzero(ddy)"
   ]
  },
  {
   "cell_type": "code",
   "execution_count": null,
   "metadata": {
    "collapsed": false,
    "scrolled": false
   },
   "outputs": [],
   "source": []
  }
 ],
 "metadata": {
  "anaconda-cloud": {},
  "kernelspec": {
   "display_name": "Python [default]",
   "language": "python",
   "name": "python3"
  },
  "language_info": {
   "codemirror_mode": {
    "name": "ipython",
    "version": 3
   },
   "file_extension": ".py",
   "mimetype": "text/x-python",
   "name": "python",
   "nbconvert_exporter": "python",
   "pygments_lexer": "ipython3",
   "version": "3.5.2"
  }
 },
 "nbformat": 4,
 "nbformat_minor": 1
}
