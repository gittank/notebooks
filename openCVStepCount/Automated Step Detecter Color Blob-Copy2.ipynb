{
 "cells": [
  {
   "cell_type": "code",
   "execution_count": 3,
   "metadata": {
    "collapsed": false
   },
   "outputs": [
    {
     "name": "stdout",
     "output_type": "stream",
     "text": [
      "Using matplotlib backend: MacOSX\n"
     ]
    },
    {
     "data": {
      "text/plain": [
       "'3.1.0'"
      ]
     },
     "execution_count": 3,
     "metadata": {},
     "output_type": "execute_result"
    }
   ],
   "source": [
    "import cv2\n",
    "import matplotlib.pyplot as plt\n",
    "import numpy as np\n",
    "%matplotlib auto\n",
    "\n",
    "cv2.__version__"
   ]
  },
  {
   "cell_type": "code",
   "execution_count": 4,
   "metadata": {
    "collapsed": false,
    "scrolled": false
   },
   "outputs": [],
   "source": [
    "idxList = []\n",
    "def onclick(event):\n",
    "    print('button=%d, x=%d, y=%d, xdata=%f, ydata=%f' %\n",
    "          (event.button, event.x, event.y, event.xdata, event.ydata))\n",
    "    global idxList\n",
    "    idxList.append([event.xdata, event.ydata])\n",
    "\n",
    "def getPoint(x,y,img):\n",
    "    temp = cv2.cvtColor(img,cv2.COLOR_BGR2GRAY)\n",
    "    return temp[x,y]\n",
    "\n",
    "def getLineSegment(x1,x2,y,img):\n",
    "    temp = cv2.cvtColor(img,cv2.COLOR_BGR2GRAY)\n",
    "    return temp[x1:x2,y]\n",
    "\n",
    "def colorFromIdx(idx, frame):\n",
    "    x,y = idx \n",
    "    return frame[int(y), int(x), :]\n",
    "\n",
    "def plotMask(idx, frame):\n",
    "    idColor = colorFromIdx(idx, frame)\n",
    "    offset = 20\n",
    "    mask = np.zeros(frame.shape)\n",
    "    for ii,color in enumerate(idColor):\n",
    "        mask[:,:,ii] = (frame[:,:,ii] > color-offset) & (frame[:,:,ii]<color+offset)\n",
    "\n",
    "    plt.figure()\n",
    "    plt.imshow(np.sum(mask,axis=2))\n",
    "    plt.title(str(idx))\n",
    "\n",
    "def plotRefPoint(idx, ax):\n",
    "    x,y = idx \n",
    "    ax.scatter(int(x), int(y))\n",
    "    \n",
    "def getMask(idColor, frame):\n",
    "    offset = 20\n",
    "    mask = np.zeros(frame.shape)\n",
    "    for ii,color in enumerate(idColor):\n",
    "        mask[:,:,ii] = (frame[:,:,ii] > color-offset) & (frame[:,:,ii]<color+offset) \n",
    "    mask = np.sum(mask, axis=2) ==3\n",
    "    return mask\n",
    "\n",
    "def getBlob(mask):\n",
    "    blob = cv2.dilate(mask.astype(np.uint8), kernel)\n",
    "    return blob\n",
    "\n",
    "def getCentroid(blob):\n",
    "    temp = blob.copy()\n",
    "    temp[temp==0] = 255\n",
    "    temp[temp==1] = 0\n",
    "    keypoints = detector.detect(temp)\n",
    "    return keypoints"
   ]
  },
  {
   "cell_type": "code",
   "execution_count": 34,
   "metadata": {
    "collapsed": false,
    "scrolled": false
   },
   "outputs": [
    {
     "data": {
      "text/plain": [
       "True"
      ]
     },
     "execution_count": 34,
     "metadata": {},
     "output_type": "execute_result"
    },
    {
     "data": {
      "text/plain": [
       "array([[   0.        ],\n",
       "       [   0.        ],\n",
       "       [   6.71052647],\n",
       "       [  13.42105293],\n",
       "       [   0.        ],\n",
       "       [   0.        ],\n",
       "       [ 150.98684692],\n",
       "       [   0.        ],\n",
       "       [  30.19736862],\n",
       "       [ 110.72368622],\n",
       "       [ 134.21052551],\n",
       "       [ 120.78947449],\n",
       "       [ 255.        ],\n",
       "       [  53.68421173],\n",
       "       [  57.03947449],\n",
       "       [  97.30263519],\n",
       "       [ 161.05264282],\n",
       "       [  67.10526276],\n",
       "       [  33.55263138],\n",
       "       [   3.35526323],\n",
       "       [   6.71052647],\n",
       "       [  46.97368622],\n",
       "       [   0.        ],\n",
       "       [   0.        ],\n",
       "       [  13.42105293],\n",
       "       [   0.        ],\n",
       "       [   0.        ],\n",
       "       [   0.        ],\n",
       "       [   0.        ],\n",
       "       [   0.        ],\n",
       "       [   0.        ],\n",
       "       [   0.        ],\n",
       "       [   0.        ],\n",
       "       [   0.        ],\n",
       "       [   0.        ],\n",
       "       [   0.        ],\n",
       "       [   0.        ],\n",
       "       [   0.        ],\n",
       "       [   0.        ],\n",
       "       [   0.        ],\n",
       "       [   0.        ],\n",
       "       [   0.        ],\n",
       "       [   0.        ],\n",
       "       [   0.        ],\n",
       "       [   0.        ],\n",
       "       [   0.        ],\n",
       "       [   0.        ],\n",
       "       [   0.        ],\n",
       "       [   0.        ],\n",
       "       [   0.        ],\n",
       "       [   0.        ],\n",
       "       [   0.        ],\n",
       "       [   0.        ],\n",
       "       [   0.        ],\n",
       "       [   0.        ],\n",
       "       [   0.        ],\n",
       "       [   0.        ],\n",
       "       [   0.        ],\n",
       "       [   0.        ],\n",
       "       [   0.        ],\n",
       "       [   0.        ],\n",
       "       [   0.        ],\n",
       "       [   0.        ],\n",
       "       [   0.        ],\n",
       "       [   0.        ],\n",
       "       [   0.        ],\n",
       "       [   0.        ],\n",
       "       [   0.        ],\n",
       "       [   0.        ],\n",
       "       [   0.        ],\n",
       "       [   0.        ],\n",
       "       [   0.        ],\n",
       "       [   0.        ],\n",
       "       [   0.        ],\n",
       "       [   0.        ],\n",
       "       [   0.        ],\n",
       "       [   0.        ],\n",
       "       [   0.        ],\n",
       "       [   0.        ],\n",
       "       [   0.        ],\n",
       "       [   0.        ],\n",
       "       [   0.        ],\n",
       "       [   0.        ],\n",
       "       [   0.        ],\n",
       "       [   0.        ],\n",
       "       [   0.        ],\n",
       "       [   0.        ],\n",
       "       [   0.        ],\n",
       "       [   0.        ],\n",
       "       [   0.        ],\n",
       "       [   0.        ],\n",
       "       [   0.        ],\n",
       "       [   0.        ],\n",
       "       [   0.        ],\n",
       "       [   0.        ],\n",
       "       [   0.        ],\n",
       "       [   0.        ],\n",
       "       [   0.        ],\n",
       "       [   0.        ],\n",
       "       [   0.        ],\n",
       "       [   0.        ],\n",
       "       [   0.        ],\n",
       "       [   0.        ],\n",
       "       [   0.        ],\n",
       "       [   0.        ],\n",
       "       [   0.        ],\n",
       "       [   0.        ],\n",
       "       [   0.        ],\n",
       "       [   0.        ],\n",
       "       [  13.42105293],\n",
       "       [  13.42105293],\n",
       "       [   0.        ],\n",
       "       [  26.84210587],\n",
       "       [  13.42105293],\n",
       "       [  53.68421173],\n",
       "       [  26.84210587],\n",
       "       [ 161.05264282],\n",
       "       [  80.52632141],\n",
       "       [  80.52632141],\n",
       "       [ 161.05264282],\n",
       "       [ 150.98684692],\n",
       "       [  90.59210968],\n",
       "       [  26.84210587],\n",
       "       [   6.71052647],\n",
       "       [  10.06579018],\n",
       "       [  70.46052551],\n",
       "       [   0.        ],\n",
       "       [   0.        ],\n",
       "       [   0.        ],\n",
       "       [  13.42105293],\n",
       "       [   0.        ],\n",
       "       [   0.        ],\n",
       "       [  10.06579018],\n",
       "       [   0.        ],\n",
       "       [   0.        ],\n",
       "       [   0.        ],\n",
       "       [   0.        ],\n",
       "       [   0.        ],\n",
       "       [  13.42105293],\n",
       "       [   0.        ],\n",
       "       [   0.        ],\n",
       "       [   0.        ],\n",
       "       [   0.        ],\n",
       "       [   0.        ],\n",
       "       [   0.        ],\n",
       "       [   0.        ],\n",
       "       [   0.        ],\n",
       "       [   0.        ],\n",
       "       [   0.        ],\n",
       "       [   0.        ],\n",
       "       [   0.        ],\n",
       "       [   0.        ],\n",
       "       [   0.        ],\n",
       "       [   0.        ],\n",
       "       [   0.        ],\n",
       "       [   0.        ],\n",
       "       [   0.        ],\n",
       "       [   0.        ],\n",
       "       [   0.        ],\n",
       "       [   0.        ],\n",
       "       [   0.        ],\n",
       "       [   0.        ],\n",
       "       [   0.        ],\n",
       "       [   0.        ],\n",
       "       [   0.        ],\n",
       "       [   0.        ],\n",
       "       [   0.        ],\n",
       "       [   0.        ],\n",
       "       [   0.        ],\n",
       "       [   0.        ],\n",
       "       [   0.        ],\n",
       "       [   0.        ],\n",
       "       [   0.        ],\n",
       "       [   0.        ],\n",
       "       [   6.71052647],\n",
       "       [   0.        ],\n",
       "       [   0.        ],\n",
       "       [  13.42105293],\n",
       "       [   0.        ],\n",
       "       [   0.        ]], dtype=float32)"
      ]
     },
     "execution_count": 34,
     "metadata": {},
     "output_type": "execute_result"
    }
   ],
   "source": [
    "cap = cv2.VideoCapture('test.mp4')\n",
    "cap.set(cv2.CAP_PROP_POS_FRAMES,0)\n",
    "fs = cap.get(cv2.CAP_PROP_FPS)\n",
    "\n",
    "ret,frame = cap.read()\n",
    "\n",
    "# setup initial location of window\n",
    "r,h,c,w = 330,50,360,50  # simply hardcoded the values\n",
    "track_window = (c,r,w,h)\n",
    "\n",
    "# set up the ROI for tracking\n",
    "roi = frame[r:r+h, c:c+w]\n",
    "hsv_roi =  cv2.cvtColor(roi, cv2.COLOR_BGR2HSV)\n",
    "mask = cv2.inRange(hsv_roi, np.array((0., 60.,32.)), np.array((180.,255.,255.)))\n",
    "roi_hist = cv2.calcHist([hsv_roi],[0],mask,[180],[0,180])\n",
    "cv2.normalize(roi_hist,roi_hist,0,255,cv2.NORM_MINMAX)\n",
    "\n",
    "# Setup the termination criteria, either 10 iteration or move by atleast 1 pt\n",
    "term_crit = ( cv2.TERM_CRITERIA_EPS | cv2.TERM_CRITERIA_COUNT, 10, 1 )\n",
    "\n",
    "while(1):\n",
    "    ret ,frame = cap.read()\n",
    "\n",
    "    if ret == True:\n",
    "        hsv = cv2.cvtColor(frame, cv2.COLOR_BGR2HSV)\n",
    "        dst = cv2.calcBackProject([hsv],[0],roi_hist,[0,180],1)\n",
    "\n",
    "        # apply meanshift to get the new location\n",
    "        ret, track_window = cv2.meanShift(dst, track_window, term_crit)\n",
    "\n",
    "        # Draw it on image\n",
    "        x,y,w,h = track_window\n",
    "        img2 = cv2.rectangle(frame, (x,y), (x+w,y+h), 255,2)\n",
    "        cv2.imshow('img2',img2)\n",
    "\n",
    "        k = cv2.waitKey(1) & 0xff\n",
    "        if k == 27:\n",
    "            break\n",
    "\n",
    "    else:\n",
    "        break\n",
    "\n",
    "cv2.destroyAllWindows()\n",
    "cap.release()"
   ]
  },
  {
   "cell_type": "code",
   "execution_count": 9,
   "metadata": {
    "collapsed": false
   },
   "outputs": [
    {
     "data": {
      "text/plain": [
       "array([[[ 26,  26,  31],\n",
       "        [ 27,  27,  32],\n",
       "        [ 27,  27,  32],\n",
       "        ..., \n",
       "        [241, 250, 242],\n",
       "        [235, 244, 236],\n",
       "        [241, 250, 242]],\n",
       "\n",
       "       [[ 26,  26,  31],\n",
       "        [ 27,  27,  32],\n",
       "        [ 27,  27,  32],\n",
       "        ..., \n",
       "        [247, 255, 248],\n",
       "        [246, 255, 247],\n",
       "        [240, 249, 241]],\n",
       "\n",
       "       [[ 26,  26,  31],\n",
       "        [ 27,  27,  32],\n",
       "        [ 27,  27,  32],\n",
       "        ..., \n",
       "        [246, 255, 247],\n",
       "        [247, 255, 248],\n",
       "        [246, 255, 247]],\n",
       "\n",
       "       ..., \n",
       "       [[148, 151, 181],\n",
       "        [138, 141, 171],\n",
       "        [189, 200, 214],\n",
       "        ..., \n",
       "        [ 19,  29,  39],\n",
       "        [ 19,  29,  39],\n",
       "        [ 19,  29,  39]],\n",
       "\n",
       "       [[148, 179, 188],\n",
       "        [202, 233, 242],\n",
       "        [209, 250, 255],\n",
       "        ..., \n",
       "        [ 19,  29,  39],\n",
       "        [ 19,  29,  39],\n",
       "        [ 19,  29,  39]],\n",
       "\n",
       "       [[219, 250, 255],\n",
       "        [218, 249, 255],\n",
       "        [181, 222, 235],\n",
       "        ..., \n",
       "        [ 19,  29,  39],\n",
       "        [ 19,  29,  39],\n",
       "        [ 19,  29,  39]]], dtype=uint8)"
      ]
     },
     "execution_count": 9,
     "metadata": {},
     "output_type": "execute_result"
    }
   ],
   "source": [
    "frame"
   ]
  },
  {
   "cell_type": "code",
   "execution_count": null,
   "metadata": {
    "collapsed": true
   },
   "outputs": [],
   "source": []
  },
  {
   "cell_type": "code",
   "execution_count": 28,
   "metadata": {
    "collapsed": false
   },
   "outputs": [
    {
     "data": {
      "text/plain": [
       "True"
      ]
     },
     "execution_count": 28,
     "metadata": {},
     "output_type": "execute_result"
    },
    {
     "data": {
      "text/plain": [
       "<matplotlib.image.AxesImage at 0x11bd7e240>"
      ]
     },
     "execution_count": 28,
     "metadata": {},
     "output_type": "execute_result"
    },
    {
     "name": "stdout",
     "output_type": "stream",
     "text": [
      "button=1, x=289, y=180, xdata=47.000000, ydata=209.500000\n",
      "button=1, x=288, y=182, xdata=46.166667, ydata=207.833333\n",
      "button=1, x=288, y=182, xdata=46.166667, ydata=207.833333\n",
      "button=1, x=288, y=188, xdata=46.166667, ydata=202.833333\n"
     ]
    }
   ],
   "source": [
    "frameOffset = 300\n",
    "bufLen = 5\n",
    "\n",
    "# get these with mouse clicks later\n",
    "x1 = 150\n",
    "x2 = 470\n",
    "y1 = 290\n",
    "y2 = 450\n",
    "\n",
    "# grab and display a frame during run\n",
    "cap = cv2.VideoCapture('test.mp4')\n",
    "cap.set(cv2.CAP_PROP_POS_FRAMES,frameOffset)\n",
    "fs = cap.get(cv2.CAP_PROP_FPS)\n",
    "\n",
    "ret,frame = cap.read()\n",
    "frame = frame[x1:x2, y1:y2, :]\n",
    "figRef = plt.figure()\n",
    "axRef = figRef.add_subplot(111)\n",
    "axRef.imshow(frame)\n",
    "\n",
    "# mouse click on columns to histogram\n",
    "cid = figRef.canvas.mpl_connect('button_press_event', onclick);\n",
    "\n",
    "# Set up the SimpleBlobdetector with default parameters.\n",
    "params = cv2.SimpleBlobDetector_Params()\n",
    "\n",
    "# Change thresholds\n",
    "params.minThreshold = 0;\n",
    "params.maxThreshold = 256;\n",
    "\n",
    "# Filter by Area.\n",
    "params.filterByArea = True\n",
    "params.minArea = 5\n",
    "\n",
    "# Filter by Circularity\n",
    "params.filterByCircularity = False\n",
    "params.minCircularity = 0.1\n",
    "\n",
    "# Filter by Convexity\n",
    "params.filterByConvexity = False\n",
    "params.minConvexity = 0.5\n",
    "\n",
    "# Filter by Inertia\n",
    "params.filterByInertia = False\n",
    "params.minInertiaRatio = 0.5\n",
    "\n",
    "detector = cv2.SimpleBlobDetector_create(params)\n"
   ]
  },
  {
   "cell_type": "code",
   "execution_count": 29,
   "metadata": {
    "collapsed": false
   },
   "outputs": [],
   "source": [
    "figRef.canvas.mpl_disconnect(cid);\n",
    "    \n",
    "for idx in idxList:    \n",
    "    plotMask(idx,frame)\n",
    "    plotRefPoint(idx,axRef)\n",
    "    \n"
   ]
  },
  {
   "cell_type": "code",
   "execution_count": 39,
   "metadata": {
    "collapsed": false
   },
   "outputs": [
    {
     "data": {
      "text/plain": [
       "True"
      ]
     },
     "execution_count": 39,
     "metadata": {},
     "output_type": "execute_result"
    },
    {
     "ename": "KeyboardInterrupt",
     "evalue": "",
     "output_type": "error",
     "traceback": [
      "\u001b[0;31m---------------------------------------------------------------------------\u001b[0m",
      "\u001b[0;31mKeyboardInterrupt\u001b[0m                         Traceback (most recent call last)",
      "\u001b[0;32m<ipython-input-39-ba8d6e316635>\u001b[0m in \u001b[0;36m<module>\u001b[0;34m()\u001b[0m\n\u001b[1;32m     18\u001b[0m     \u001b[0mcount\u001b[0m \u001b[0;34m=\u001b[0m \u001b[0mcount\u001b[0m \u001b[0;34m+\u001b[0m \u001b[0;36m1\u001b[0m\u001b[0;34m\u001b[0m\u001b[0m\n\u001b[1;32m     19\u001b[0m     \u001b[0mframe\u001b[0m \u001b[0;34m=\u001b[0m  \u001b[0mframe\u001b[0m\u001b[0;34m[\u001b[0m\u001b[0mx1\u001b[0m\u001b[0;34m:\u001b[0m\u001b[0mx2\u001b[0m\u001b[0;34m,\u001b[0m \u001b[0my1\u001b[0m\u001b[0;34m:\u001b[0m\u001b[0my2\u001b[0m\u001b[0;34m,\u001b[0m \u001b[0;34m:\u001b[0m\u001b[0;34m]\u001b[0m\u001b[0;34m\u001b[0m\u001b[0m\n\u001b[0;32m---> 20\u001b[0;31m     \u001b[0mmask\u001b[0m \u001b[0;34m=\u001b[0m \u001b[0mgetMask\u001b[0m\u001b[0;34m(\u001b[0m\u001b[0midColor\u001b[0m\u001b[0;34m,\u001b[0m \u001b[0mframe\u001b[0m\u001b[0;34m)\u001b[0m\u001b[0;34m\u001b[0m\u001b[0m\n\u001b[0m\u001b[1;32m     21\u001b[0m     \u001b[0mblob\u001b[0m \u001b[0;34m=\u001b[0m \u001b[0mgetBlob\u001b[0m\u001b[0;34m(\u001b[0m\u001b[0mmask\u001b[0m\u001b[0;34m)\u001b[0m\u001b[0;34m\u001b[0m\u001b[0m\n\u001b[1;32m     22\u001b[0m     \u001b[0mkeypoints\u001b[0m \u001b[0;34m=\u001b[0m \u001b[0mgetCentroid\u001b[0m\u001b[0;34m(\u001b[0m\u001b[0mblob\u001b[0m\u001b[0;34m)\u001b[0m\u001b[0;34m\u001b[0m\u001b[0m\n",
      "\u001b[0;32m<ipython-input-27-210eccd093b9>\u001b[0m in \u001b[0;36mgetMask\u001b[0;34m(idColor, frame)\u001b[0m\n\u001b[1;32m     37\u001b[0m     \u001b[0mmask\u001b[0m \u001b[0;34m=\u001b[0m \u001b[0mnp\u001b[0m\u001b[0;34m.\u001b[0m\u001b[0mzeros\u001b[0m\u001b[0;34m(\u001b[0m\u001b[0mframe\u001b[0m\u001b[0;34m.\u001b[0m\u001b[0mshape\u001b[0m\u001b[0;34m)\u001b[0m\u001b[0;34m\u001b[0m\u001b[0m\n\u001b[1;32m     38\u001b[0m     \u001b[0;32mfor\u001b[0m \u001b[0mii\u001b[0m\u001b[0;34m,\u001b[0m\u001b[0mcolor\u001b[0m \u001b[0;32min\u001b[0m \u001b[0menumerate\u001b[0m\u001b[0;34m(\u001b[0m\u001b[0midColor\u001b[0m\u001b[0;34m)\u001b[0m\u001b[0;34m:\u001b[0m\u001b[0;34m\u001b[0m\u001b[0m\n\u001b[0;32m---> 39\u001b[0;31m         \u001b[0mmask\u001b[0m\u001b[0;34m[\u001b[0m\u001b[0;34m:\u001b[0m\u001b[0;34m,\u001b[0m\u001b[0;34m:\u001b[0m\u001b[0;34m,\u001b[0m\u001b[0mii\u001b[0m\u001b[0;34m]\u001b[0m \u001b[0;34m=\u001b[0m \u001b[0;34m(\u001b[0m\u001b[0mframe\u001b[0m\u001b[0;34m[\u001b[0m\u001b[0;34m:\u001b[0m\u001b[0;34m,\u001b[0m\u001b[0;34m:\u001b[0m\u001b[0;34m,\u001b[0m\u001b[0mii\u001b[0m\u001b[0;34m]\u001b[0m \u001b[0;34m>\u001b[0m \u001b[0mcolor\u001b[0m\u001b[0;34m-\u001b[0m\u001b[0moffset\u001b[0m\u001b[0;34m)\u001b[0m \u001b[0;34m&\u001b[0m \u001b[0;34m(\u001b[0m\u001b[0mframe\u001b[0m\u001b[0;34m[\u001b[0m\u001b[0;34m:\u001b[0m\u001b[0;34m,\u001b[0m\u001b[0;34m:\u001b[0m\u001b[0;34m,\u001b[0m\u001b[0mii\u001b[0m\u001b[0;34m]\u001b[0m\u001b[0;34m<\u001b[0m\u001b[0mcolor\u001b[0m\u001b[0;34m+\u001b[0m\u001b[0moffset\u001b[0m\u001b[0;34m)\u001b[0m\u001b[0;34m\u001b[0m\u001b[0m\n\u001b[0m\u001b[1;32m     40\u001b[0m     \u001b[0mmask\u001b[0m \u001b[0;34m=\u001b[0m \u001b[0mnp\u001b[0m\u001b[0;34m.\u001b[0m\u001b[0msum\u001b[0m\u001b[0;34m(\u001b[0m\u001b[0mmask\u001b[0m\u001b[0;34m,\u001b[0m \u001b[0maxis\u001b[0m\u001b[0;34m=\u001b[0m\u001b[0;36m2\u001b[0m\u001b[0;34m)\u001b[0m \u001b[0;34m==\u001b[0m\u001b[0;36m3\u001b[0m\u001b[0;34m\u001b[0m\u001b[0m\n\u001b[1;32m     41\u001b[0m     \u001b[0;32mreturn\u001b[0m \u001b[0mmask\u001b[0m\u001b[0;34m\u001b[0m\u001b[0m\n",
      "\u001b[0;31mKeyboardInterrupt\u001b[0m: "
     ]
    }
   ],
   "source": [
    "DISP = False\n",
    "kernel = cv2.getStructuringElement(cv2.MORPH_ELLIPSE, (30,30))\n",
    "frameSkip = 0\n",
    "\n",
    "# add user input to choose the best starting point\n",
    "idx = idxList[1]\n",
    "x,y = idx\n",
    "idColor = colorFromIdx(idx, frame)\n",
    "xBuff = [x]\n",
    "yBuff = [y]\n",
    "\n",
    "cap = cv2.VideoCapture('test.mp4')\n",
    "cap.set(cv2.CAP_PROP_POS_FRAMES,frameSkip)\n",
    "ret,frame = cap.read()\n",
    "count = 0\n",
    "\n",
    "while ret:\n",
    "    count = count + 1\n",
    "    frame =  frame[x1:x2, y1:y2, :]\n",
    "    mask = getMask(idColor, frame)\n",
    "    blob = getBlob(mask)\n",
    "    keypoints = getCentroid(blob)\n",
    "    \n",
    "    # if we find any blobs\n",
    "    if keypoints:\n",
    "        \n",
    "        # assume one and use that as the centroid\n",
    "        x,y = keypoints[0].pt\n",
    "        \n",
    "        # if more than one find the one closest to the last one\n",
    "        minVal = float('inf')\n",
    "        for kp in keypoints:\n",
    "            x,y = kp.pt\n",
    "            dist = np.power((x-xBuff[-1]),2)+np.power((y-yBuff[-1]),2)\n",
    "            if dist < minVal:\n",
    "                minVal = dist\n",
    "                xOut = x\n",
    "                yout = y\n",
    "                    \n",
    "                \n",
    "    else:\n",
    "        \n",
    "        # if no blob found then use the old value\n",
    "        # mostly we get here because the blob touches the edge of the image\n",
    "        x = xBuff[-1]\n",
    "        y = yBuff[-1]\n",
    "        #input('')\n",
    "        \n",
    "    xBuff.append(x)\n",
    "    yBuff.append(y)\n",
    "    \n",
    "    \n",
    "    if DISP:\n",
    "        new = cv2.circle(cv2.bitwise_and(frame, frame, mask=blob), (int(x),int(y)), 5, 255, -1)\n",
    "        cv2.imshow('frame',new)\n",
    "#         if cv2.waitKey(20) & 0xFF == ord('q'):\n",
    "#             break\n",
    "        k = cv2.waitKey(0)\n",
    "        if k == 27:         # wait for ESC key to exit\n",
    "            cv2.destroyAllWindows()\n",
    "            break\n",
    "        elif k == ord('n'): # wait for 's' for next frame\n",
    "            t = 1\n",
    "            \n",
    "    ret,frame = cap.read()\n",
    "\n",
    "\n",
    "cap.release()\n",
    "\n"
   ]
  },
  {
   "cell_type": "code",
   "execution_count": 23,
   "metadata": {
    "collapsed": true
   },
   "outputs": [],
   "source": [
    "cv2.destroyAllWindows()\n"
   ]
  },
  {
   "cell_type": "code",
   "execution_count": 24,
   "metadata": {
    "collapsed": false
   },
   "outputs": [
    {
     "data": {
      "text/plain": [
       "1"
      ]
     },
     "execution_count": 24,
     "metadata": {},
     "output_type": "execute_result"
    }
   ],
   "source": [
    "np.max(blob)"
   ]
  },
  {
   "cell_type": "code",
   "execution_count": 25,
   "metadata": {
    "collapsed": false
   },
   "outputs": [
    {
     "ename": "NameError",
     "evalue": "name 'result' is not defined",
     "output_type": "error",
     "traceback": [
      "\u001b[0;31m---------------------------------------------------------------------------\u001b[0m",
      "\u001b[0;31mNameError\u001b[0m                                 Traceback (most recent call last)",
      "\u001b[0;32m<ipython-input-25-aacb4190c366>\u001b[0m in \u001b[0;36m<module>\u001b[0;34m()\u001b[0m\n\u001b[0;32m----> 1\u001b[0;31m \u001b[0mplt\u001b[0m\u001b[0;34m.\u001b[0m\u001b[0mimshow\u001b[0m\u001b[0;34m(\u001b[0m\u001b[0mresult\u001b[0m\u001b[0;34m)\u001b[0m\u001b[0;34m\u001b[0m\u001b[0m\n\u001b[0m",
      "\u001b[0;31mNameError\u001b[0m: name 'result' is not defined"
     ]
    }
   ],
   "source": [
    "plt.imshow(result)"
   ]
  },
  {
   "cell_type": "code",
   "execution_count": 40,
   "metadata": {
    "collapsed": false
   },
   "outputs": [
    {
     "name": "stdout",
     "output_type": "stream",
     "text": [
      "Total Steps = 97\n"
     ]
    }
   ],
   "source": [
    "cv2.destroyAllWindows()\n",
    "\n",
    "# user input to figure out true offset\n",
    "frameOffset = 500\n",
    "\n",
    "# low pass filter to smooth\n",
    "N=10\n",
    "fc = fs/40.\n",
    "\n",
    "import scipy.signal as sp\n",
    "\n",
    "# use firwin with arbitrary Fs\n",
    "h=sp.firwin( numtaps=N, cutoff=fc, nyq=fs/2)\n",
    "filtY=sp.lfilter( h, 1.0, yBuff) # 'x' is the time-series data you are filtering\n",
    "\n",
    "\n",
    "# count number of positive inflextions points (first derivative zero / second neg)\n",
    "dy = np.diff(filtY)\n",
    "dy[dy>0] = 1\n",
    "dy[dy<0] = -1\n",
    "ddy = np.diff(dy)\n",
    "ddy[ddy>0] = 0\n",
    "totalSteps = np.count_nonzero(ddy[frameOffset:25700])\n",
    "\n",
    "print('Total Steps = %d'%totalSteps)"
   ]
  },
  {
   "cell_type": "code",
   "execution_count": 41,
   "metadata": {
    "collapsed": false
   },
   "outputs": [
    {
     "data": {
      "text/plain": [
       "<matplotlib.figure.Figure at 0x11da22320>"
      ]
     },
     "execution_count": 41,
     "metadata": {},
     "output_type": "execute_result"
    },
    {
     "data": {
      "text/plain": [
       "[<matplotlib.lines.Line2D at 0x11ddfd1d0>]"
      ]
     },
     "execution_count": 41,
     "metadata": {},
     "output_type": "execute_result"
    },
    {
     "data": {
      "text/plain": [
       "<matplotlib.figure.Figure at 0x116a0c860>"
      ]
     },
     "execution_count": 41,
     "metadata": {},
     "output_type": "execute_result"
    },
    {
     "data": {
      "text/plain": [
       "[<matplotlib.lines.Line2D at 0x11f19d588>]"
      ]
     },
     "execution_count": 41,
     "metadata": {},
     "output_type": "execute_result"
    }
   ],
   "source": [
    "plt.figure()\n",
    "plt.plot(np.power(yBuff,2)+np.power(xBuff,2))\n",
    "plt.figure()\n",
    "plt.plot(yBuff)\n"
   ]
  },
  {
   "cell_type": "code",
   "execution_count": null,
   "metadata": {
    "collapsed": true
   },
   "outputs": [],
   "source": []
  }
 ],
 "metadata": {
  "anaconda-cloud": {},
  "kernelspec": {
   "display_name": "Python [default]",
   "language": "python",
   "name": "python3"
  },
  "language_info": {
   "codemirror_mode": {
    "name": "ipython",
    "version": 3
   },
   "file_extension": ".py",
   "mimetype": "text/x-python",
   "name": "python",
   "nbconvert_exporter": "python",
   "pygments_lexer": "ipython3",
   "version": "3.5.2"
  }
 },
 "nbformat": 4,
 "nbformat_minor": 1
}
