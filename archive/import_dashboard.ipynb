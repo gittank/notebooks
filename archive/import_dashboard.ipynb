{
 "cells": [
  {
   "cell_type": "code",
   "execution_count": 5,
   "metadata": {
    "collapsed": false
   },
   "outputs": [],
   "source": [
    "from IPython.display import HTML\n",
    "\n",
    "def hover(hover_color=\"#ffff99\"):\n",
    "    return dict(selector=\"tr:hover\",\n",
    "                props=[(\"background-color\", \"%s\" % hover_color)])\n",
    "\n",
    "styles = [\n",
    "    hover(),\n",
    "    dict(selector=\"th\", props=[(\"font-size\", \"100%\"),\n",
    "                               (\"text-align\", \"center\")]),\n",
    "    dict(selector=\"caption\", props=[(\"caption-side\", \"bottom\")])\n",
    "]\n",
    "# html1 = (valve.style.set_table_styles(styles))\n",
    "# html2 = (rctTemp.style.set_table_styles(styles))\n"
   ]
  },
  {
   "cell_type": "code",
   "execution_count": 6,
   "metadata": {
    "collapsed": false
   },
   "outputs": [],
   "source": [
    "import sys\n",
    "import time\n",
    "from IPython.display import display,HTML,clear_output\n",
    "def dashboard(run='004', updateSec=3):\n",
    "\n",
    "    cursor = connectDbase('rct007')\n",
    "\n",
    "    tbName0 = 'rct007_testID'\n",
    "    tbName1 = run+'_flowindata'\n",
    "    tbName2 = run+'_flowoutdata'\n",
    "    tbName3 = run+'_plcdata'\n",
    "    tbName4 = run+'_voltagedata'\n",
    "\n",
    "    while(True):\n",
    "        time.sleep(updateSec)\n",
    "\n",
    "        cursor = connectDbase('rct007')\n",
    "        plc   = readLastNTable(cursor, tbName3,1)\n",
    "        volt  = readLastNTable(cursor, tbName4,1)\n",
    "        flin  = readLastNTable(cursor, tbName1)\n",
    "        flout = readLastNTable(cursor, tbName2)\n",
    "\n",
    "        valve = plc.loc[:,['maingasOpen', 'SysRctOpen', 'EvacOpen', 'HivacOpen', 'ForelineOpen', 'RoughOpen', 'sysRgaOpen']]\n",
    "        valve.rename(columns={'maingasOpen': 'MainGas', 'SysRctOpen': 'Sys RCT', 'EvacOpen': 'Gas Evac',\n",
    "                              'HivacOpen': 'Hivac', 'ForelineOpen': 'Foreline', 'RoughOpen': 'Rough'}, inplace=True)\n",
    "        for column in valve:\n",
    "            if np.any(valve[column] == 1):\n",
    "                valve[column] = 'Open'\n",
    "            else:\n",
    "                valve[column] = 'Closed'\n",
    "        vhtml = (valve.style.set_table_styles(styles)).set_caption('Valve State')\n",
    "        \n",
    "\n",
    "        rctTemp = plc.loc[:, ['rct_rtd1', 'rct_rtd2', 'rct_rtd3', 'rct_rtd4', 'rct_rtd5', 'rct_rtd6']]\n",
    "        rctThtml = (rctTemp.style.set_table_styles(styles)).set_caption('Reactor Temperatures, degrees C')\n",
    "\n",
    "        ambTemp = plc.loc[:, ['amb_rtd1', 'amb_rtd2', 'amb_rtd3', 'amb_rtd4']]\n",
    "        ambThtml = (ambTemp.style.set_table_styles(styles)).set_caption('Ambient Temperatures, degrees C')\n",
    "\n",
    "        press = plc.loc[:, ['BaratronPress', 'forelinePress', 'systemPress', '20TBaratronPress']]\n",
    "        press.rename(columns={'BaratronPress': 'Baratron Pressure (Torr)', 'forelinePress': \n",
    "                            'Foreline Pressure (Torr)', 'systemPress':'System Pressure (Torr)', \n",
    "                            '20TBaratronPress': '20T Baratron Pressure (Torr)'}, inplace = True)\n",
    "        press = press.reindex(index=press.index[::-1])                    \n",
    "        phtml = (press.style.set_table_styles(styles)).set_caption('Pressure Readings')\n",
    "\n",
    "        gasFlow = plc.loc[:, ['H2Flowrate', 'D2Flowrate', 'ARFlowrate', 'HeFlowrate']]\n",
    "        ghtml = (gasFlow.style.set_table_styles(styles).set_caption('Gas Flow Rate, SCCM'))\n",
    "        \n",
    "        heat = plc.loc[:, ['htrstate', 'htrtimeon', 'htrperiod', 'htr1duty', 'htr2duty','htr1_tc','htr2_tc']]\n",
    "        heat.rename(columns={'htrperiod':'Period', 'htrstate':'State', 'htr1duty':'Duty Cycle H1',\n",
    "                             'htr2duty':'Duty Cycle H2','htrtimeon':'Time On','htr1_tc':'Temp H1',\n",
    "                             'htr2_tc':'Temp H2'}, inplace=True)                    \n",
    "        hhtml = (heat.style.set_table_styles(styles)).set_caption('Heater Settings')\n",
    "\n",
    "        flow = plc.loc[:,['flowin_rtd','flowout_rtd'] ]\n",
    "        flow['rate in'] = flin.flowin[0]\n",
    "        flow['rate out'] = flout.flowout[0]\n",
    "        fhtml = (flow.style.set_table_styles(styles).set_caption('Water Cooler Flow'))\n",
    "\n",
    "        clear_output(wait=True)\n",
    "\n",
    "        display(HTML('<font size=4><b>Kernel -> Interrupt To Stop</b></font>'))\n",
    "        display((vhtml))\n",
    "        display((phtml))\n",
    "        display((ghtml))\n",
    "        display((rctThtml))\n",
    "        display((ambThtml))\n",
    "        display((hhtml))\n",
    "        display((fhtml))\n",
    "        "
   ]
  },
  {
   "cell_type": "code",
   "execution_count": null,
   "metadata": {
    "collapsed": true
   },
   "outputs": [],
   "source": []
  }
 ],
 "metadata": {
  "kernelspec": {
   "display_name": "Python [Root]",
   "language": "python",
   "name": "Python [Root]"
  },
  "language_info": {
   "codemirror_mode": {
    "name": "ipython",
    "version": 2
   },
   "file_extension": ".py",
   "mimetype": "text/x-python",
   "name": "python",
   "nbconvert_exporter": "python",
   "pygments_lexer": "ipython2",
   "version": "2.7.12"
  }
 },
 "nbformat": 4,
 "nbformat_minor": 0
}
