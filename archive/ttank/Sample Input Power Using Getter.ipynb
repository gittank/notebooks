{
 "cells": [
  {
   "cell_type": "code",
   "execution_count": 96,
   "metadata": {
    "collapsed": false
   },
   "outputs": [],
   "source": [
    "%run 'import_dbase.ipynb'\n",
    "%run 'import_rct007.ipynb'\n",
    "%run 'import_getters.ipynb'\n"
   ]
  },
  {
   "cell_type": "code",
   "execution_count": 94,
   "metadata": {
    "collapsed": false
   },
   "outputs": [
    {
     "data": {
      "text/plain": [
       "u'/home/ihs01/Documents/NOTEBOOKS'"
      ]
     },
     "execution_count": 94,
     "metadata": {},
     "output_type": "execute_result"
    }
   ],
   "source": [
    "pwd"
   ]
  },
  {
   "cell_type": "code",
   "execution_count": 97,
   "metadata": {
    "collapsed": false
   },
   "outputs": [],
   "source": [
    "\n",
    "\n",
    "def findInputPower(eventTuple):\n",
    "    lineVoltageSensor = 'v5'\n",
    "    fanCurrentSensor = 'v8'\n",
    "    htr1CurrentSensor = 'v1'\n",
    "    htr2CurrentSensor = 'v4'\n",
    "    \n",
    "    lineVoltage = getEngData(lineVoltageSensor, eventTuple)\n",
    "    fanCurrent = getEngData(fanCurrentSensor, eventTuple)\n",
    "    h1Current = getEngData(htr1CurrentSensor, eventTuple)\n",
    "    h2Current = getEngData(htr2CurrentSensor, eventTuple)\n",
    "\n",
    "    pwrFan =  lineVoltage.values * fanCurrent.values\n",
    "    pwrHtr1 = lineVoltage.values * h1Current.values\n",
    "    pwrHtr2 = lineVoltage.values * h2Current.values\n",
    "    \n",
    "    meanPwrFan = pwrFan.mean()\n",
    "    stdPwrFan = pwrFan.std()\n",
    "    meanPwrHtr1 = pwrHtr1.mean()\n",
    "    stdPwrHtr1 = pwrHtr1.std()\n",
    "    meanPwrHtr2 = pwrHtr2.mean()\n",
    "    stdPwrHtr2 = pwrHtr2.std()\n",
    "\n",
    "    return meanPwrFan+meanPwrHtr1+meanPwrHtr2\n",
    "\n"
   ]
  },
  {
   "cell_type": "code",
   "execution_count": 100,
   "metadata": {
    "collapsed": false
   },
   "outputs": [
    {
     "ename": "TypeError",
     "evalue": "getSensorData() got an unexpected keyword argument 'dBase'",
     "output_type": "error",
     "traceback": [
      "\u001b[1;31m---------------------------------------------------------------------------\u001b[0m",
      "\u001b[1;31mTypeError\u001b[0m                                 Traceback (most recent call last)",
      "\u001b[1;32m<ipython-input-100-8bd2d6b5328e>\u001b[0m in \u001b[0;36m<module>\u001b[1;34m()\u001b[0m\n\u001b[0;32m      1\u001b[0m \u001b[0meventTuples\u001b[0m \u001b[1;33m=\u001b[0m \u001b[0mgetEvents\u001b[0m\u001b[1;33m(\u001b[0m\u001b[1;34m'rct007'\u001b[0m\u001b[1;33m)\u001b[0m\u001b[1;33m.\u001b[0m\u001b[0mindex\u001b[0m\u001b[1;33m\u001b[0m\u001b[0m\n\u001b[1;32m----> 2\u001b[1;33m \u001b[1;32mprint\u001b[0m \u001b[1;34m'input power: %f'\u001b[0m\u001b[1;33m%\u001b[0m\u001b[0mfindInputPower\u001b[0m\u001b[1;33m(\u001b[0m\u001b[0meventTuples\u001b[0m\u001b[1;33m[\u001b[0m\u001b[1;36m6\u001b[0m\u001b[1;33m]\u001b[0m\u001b[1;33m)\u001b[0m\u001b[1;33m\u001b[0m\u001b[0m\n\u001b[0m",
      "\u001b[1;32m<ipython-input-97-f2708b6e30a7>\u001b[0m in \u001b[0;36mfindInputPower\u001b[1;34m(eventTuple)\u001b[0m\n\u001b[0;32m      7\u001b[0m     \u001b[0mhtr2CurrentSensor\u001b[0m \u001b[1;33m=\u001b[0m \u001b[1;34m'v4'\u001b[0m\u001b[1;33m\u001b[0m\u001b[0m\n\u001b[0;32m      8\u001b[0m \u001b[1;33m\u001b[0m\u001b[0m\n\u001b[1;32m----> 9\u001b[1;33m     \u001b[0mlineVoltage\u001b[0m \u001b[1;33m=\u001b[0m \u001b[0mgetEngData\u001b[0m\u001b[1;33m(\u001b[0m\u001b[0mlineVoltageSensor\u001b[0m\u001b[1;33m,\u001b[0m \u001b[0meventTuple\u001b[0m\u001b[1;33m)\u001b[0m\u001b[1;33m\u001b[0m\u001b[0m\n\u001b[0m\u001b[0;32m     10\u001b[0m     \u001b[0mfanCurrent\u001b[0m \u001b[1;33m=\u001b[0m \u001b[0mgetEngData\u001b[0m\u001b[1;33m(\u001b[0m\u001b[0mfanCurrentSensor\u001b[0m\u001b[1;33m,\u001b[0m \u001b[0meventTuple\u001b[0m\u001b[1;33m)\u001b[0m\u001b[1;33m\u001b[0m\u001b[0m\n\u001b[0;32m     11\u001b[0m     \u001b[0mh1Current\u001b[0m \u001b[1;33m=\u001b[0m \u001b[0mgetEngData\u001b[0m\u001b[1;33m(\u001b[0m\u001b[0mhtr1CurrentSensor\u001b[0m\u001b[1;33m,\u001b[0m \u001b[0meventTuple\u001b[0m\u001b[1;33m)\u001b[0m\u001b[1;33m\u001b[0m\u001b[0m\n",
      "\u001b[1;32m<ipython-input-96-8754ecb1c4f8>\u001b[0m in \u001b[0;36mgetEngData\u001b[1;34m(sensorName, eventTuples, path)\u001b[0m\n\u001b[0;32m     29\u001b[0m \u001b[1;33m\u001b[0m\u001b[0m\n\u001b[0;32m     30\u001b[0m     \u001b[1;31m#read pickle file\u001b[0m\u001b[1;33m\u001b[0m\u001b[1;33m\u001b[0m\u001b[0m\n\u001b[1;32m---> 31\u001b[1;33m     \u001b[0mengData\u001b[0m \u001b[1;33m=\u001b[0m \u001b[0mgetSensorData\u001b[0m\u001b[1;33m(\u001b[0m\u001b[0msensorName\u001b[0m\u001b[1;33m,\u001b[0m\u001b[0meventTuples\u001b[0m\u001b[1;33m,\u001b[0m \u001b[0mpath\u001b[0m \u001b[1;33m=\u001b[0m \u001b[1;34m'/home/ihs01/Documents/NOTEBOOKS/DATA/'\u001b[0m\u001b[1;33m,\u001b[0m\u001b[0mdBase\u001b[0m\u001b[1;33m=\u001b[0m\u001b[1;34m'rct007'\u001b[0m\u001b[1;33m)\u001b[0m\u001b[1;33m\u001b[0m\u001b[0m\n\u001b[0m\u001b[0;32m     32\u001b[0m \u001b[1;33m\u001b[0m\u001b[0m\n\u001b[0;32m     33\u001b[0m     \u001b[1;31m#engineering units\u001b[0m\u001b[1;33m\u001b[0m\u001b[1;33m\u001b[0m\u001b[0m\n",
      "\u001b[1;31mTypeError\u001b[0m: getSensorData() got an unexpected keyword argument 'dBase'"
     ]
    }
   ],
   "source": [
    "eventTuples = getEvents('rct007').index\n",
    "print 'input power: %f'%findInputPower(eventTuples[6])"
   ]
  },
  {
   "cell_type": "code",
   "execution_count": 90,
   "metadata": {
    "collapsed": false
   },
   "outputs": [
    {
     "data": {
      "text/plain": [
       "MultiIndex(levels=[[0, 1, 2, 3, 4, 5, 6, 7, 8, 9, 10, 11, 12, 13, 14, 15, 16, 17, 18, 19, 20, 21, 22, 23, 24, 25, 26, 27, 28, 29, 30, 31, 32, 33, 34, 35, 36, 37, 38, 39, 40, 41, 42, 43, 44, 45, 46, 47, 48, 49, 50, 51, 52, 53, 54, 55, 56, 57, 58, 59, 60, 61, 62, 63, 64, 65], [u'rct007'], [u'004']],\n",
       "           labels=[[0, 1, 2, 3, 4, 5, 6, 7, 8, 9, 10, 11, 12, 13, 14, 15, 16, 17, 18, 19, 20, 21, 22, 23, 24, 25, 26, 27, 28, 29, 30, 31, 32, 33, 34, 35, 36, 37, 38, 39, 40, 41, 42, 43, 44, 45, 46, 47, 48, 49, 50, 51, 52, 53, 54, 55, 56, 57, 58, 59, 60, 61, 62, 63, 64, 65], [0, 0, 0, 0, 0, 0, 0, 0, 0, 0, 0, 0, 0, 0, 0, 0, 0, 0, 0, 0, 0, 0, 0, 0, 0, 0, 0, 0, 0, 0, 0, 0, 0, 0, 0, 0, 0, 0, 0, 0, 0, 0, 0, 0, 0, 0, 0, 0, 0, 0, 0, 0, 0, 0, 0, 0, 0, 0, 0, 0, 0, 0, 0, 0, 0, 0], [0, 0, 0, 0, 0, 0, 0, 0, 0, 0, 0, 0, 0, 0, 0, 0, 0, 0, 0, 0, 0, 0, 0, 0, 0, 0, 0, 0, 0, 0, 0, 0, 0, 0, 0, 0, 0, 0, 0, 0, 0, 0, 0, 0, 0, 0, 0, 0, 0, 0, 0, 0, 0, 0, 0, 0, 0, 0, 0, 0, 0, 0, 0, 0, 0, 0]],\n",
       "           names=[u'eventId', u'dataBase', u'run'])"
      ]
     },
     "execution_count": 90,
     "metadata": {},
     "output_type": "execute_result"
    }
   ],
   "source": []
  },
  {
   "cell_type": "code",
   "execution_count": null,
   "metadata": {
    "collapsed": true
   },
   "outputs": [],
   "source": []
  }
 ],
 "metadata": {
  "kernelspec": {
   "display_name": "Python 2",
   "language": "python",
   "name": "python2"
  },
  "language_info": {
   "codemirror_mode": {
    "name": "ipython",
    "version": 2
   },
   "file_extension": ".py",
   "mimetype": "text/x-python",
   "name": "python",
   "nbconvert_exporter": "python",
   "pygments_lexer": "ipython2",
   "version": "2.7.11"
  }
 },
 "nbformat": 4,
 "nbformat_minor": 0
}
