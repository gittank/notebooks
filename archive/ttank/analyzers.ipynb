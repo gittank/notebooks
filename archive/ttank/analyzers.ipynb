{
 "cells": [
  {
   "cell_type": "code",
   "execution_count": 1,
   "metadata": {
    "collapsed": true
   },
   "outputs": [],
   "source": [
    "import scipy as sp"
   ]
  },
  {
   "cell_type": "code",
   "execution_count": 8,
   "metadata": {
    "collapsed": false
   },
   "outputs": [],
   "source": [
    "%run '/home/ihs01/Documents/NOTEBOOKS/import_getters.ipynb'"
   ]
  },
  {
   "cell_type": "markdown",
   "metadata": {},
   "source": [
    "## Statistical Analysis"
   ]
  },
  {
   "cell_type": "code",
   "execution_count": 9,
   "metadata": {
    "collapsed": true
   },
   "outputs": [],
   "source": [
    "def getStats(sensor, eventTupleList):\n",
    "    ''' NAME\n",
    "            getStats\n",
    "\n",
    "        DESCRIPTION\n",
    "            This function uses a list of eventTuples or single tuple and performs statistical analysis \n",
    "            on sensor data for each tuple to return a dataframe with mean, max, min, std, skew, kurtosis, \n",
    "            and tuple info.  \n",
    "\n",
    "        INPUT\n",
    "            sensor:           name of sensor to get data for\n",
    "            eventTupleList:   can be either a list of eventTuples or a single tuple\n",
    "\n",
    "        RETURN\n",
    "            returns a dataframe containing statistical calculations for each event with an index of event ID, \n",
    "            reactor, and run\n",
    "\n",
    "        EXAMPLE\n",
    "            1.) Multiple Events\n",
    "            #Get list of Argon events\n",
    "            dataBase ='rct007'\n",
    "            gasType ='Argon'\n",
    "            gasEventsDf = getGasEvents(dataBase,gasType)\n",
    "\n",
    "            #Get list of tuples for Argon events\n",
    "            eventTupleList = gasEventsDf.index\n",
    "            sensor = 'rct_rtd1'\n",
    "\n",
    "            getStats(sensor, eventTupleList)\n",
    "\n",
    "            2.) Single Event\n",
    "            eventTuple = getEvents('rct007').index\n",
    "            eventNumber = 3\n",
    "            singleEvent = [eventTuple[eventNumber]]\n",
    "            sensor = 'rct_rtd1'\n",
    "\n",
    "            getStats(sensor, singleEvent)'''\n",
    "    \n",
    "    list1 = ['mean', 'max', 'min', 'std', 'skew', 'kurt']\n",
    "    stats = pd.DataFrame(columns = list1)\n",
    "    df = pd.DataFrame()\n",
    "    for eventTup in eventTupleList:\n",
    "\n",
    "        #Get data\n",
    "        [datetime, data] = getEngData(sensor, eventTup)\n",
    "        \n",
    "        #Analyze data\n",
    "        mean = data.mean()\n",
    "        maxval = data.max()\n",
    "        minval = data.min()\n",
    "        std = data.std()   \n",
    "        skew1 = sp.stats.skew(data)\n",
    "        skew = skew1[0]\n",
    "        kurtosis1 = sp.stats.kurtosis(data, fisher=False)\n",
    "        kurtosis = kurtosis1[0]\n",
    "        \n",
    "        #Compile data\n",
    "        A = [[mean], [maxval], [minval], [std], [skew], [kurtosis]]\n",
    "        B = zip(*A)\n",
    "        df1 = pd.DataFrame(B, columns = list1)        \n",
    "        stats = pd.concat([stats, df1], axis=0)\n",
    "    \n",
    "    #Re-index dataframe with eventTuple info\n",
    "    index = pd.MultiIndex.from_tuples(eventTupleList, names=['event id', 'reactor', 'run'])\n",
    "    stats = stats.set_index(index)\n",
    "    \n",
    "    return stats"
   ]
  },
  {
   "cell_type": "markdown",
   "metadata": {},
   "source": [
    "## Calculate Input Power"
   ]
  },
  {
   "cell_type": "code",
   "execution_count": null,
   "metadata": {
    "collapsed": true
   },
   "outputs": [],
   "source": [
    "def findInputPower(eventTuple):\n",
    "    \n",
    "    ''' NAME\n",
    "            findInputPower\n",
    "        \n",
    "        DESCRIPTION\n",
    "            This function calculates the input power of the fan and reactor heaters\n",
    "        \n",
    "        INPUT\n",
    "            eventTuple:  contains event ID, run, and database info\n",
    "        \n",
    "        RETURN\n",
    "            returns a calculated value for input power\n",
    "        \n",
    "        EXAMPLE\n",
    "            eventTuple = getEvents('rct007').index\n",
    "            \n",
    "            findInputPower(eventTuple[12])'''\n",
    "    \n",
    "    lineVoltageSensor = 'v5'\n",
    "    fanCurrentSensor = 'v8'\n",
    "    htr1CurrentSensor = 'v1'\n",
    "    htr2CurrentSensor = 'v4'\n",
    "    \n",
    "    datetime, lineVoltage = getEngData(lineVoltageSensor, eventTuple)\n",
    "    datetime, fanCurrent = getEngData(fanCurrentSensor, eventTuple)\n",
    "    datetime, h1Current = getEngData(htr1CurrentSensor, eventTuple)\n",
    "    datetime, h2Current = getEngData(htr2CurrentSensor, eventTuple)\n",
    "\n",
    "    pwrFan =  lineVoltage * fanCurrent\n",
    "    pwrHtr1 = lineVoltage * h1Current\n",
    "    pwrHtr2 = lineVoltage * h2Current\n",
    "    \n",
    "    meanPwrFan = pwrFan.mean()\n",
    "    stdPwrFan = pwrFan.std()\n",
    "    meanPwrHtr1 = pwrHtr1.mean()\n",
    "    stdPwrHtr1 = pwrHtr1.std()\n",
    "    meanPwrHtr2 = pwrHtr2.mean()\n",
    "    stdPwrHtr2 = pwrHtr2.std()\n",
    "\n",
    "    return meanPwrFan+meanPwrHtr1+meanPwrHtr2"
   ]
  },
  {
   "cell_type": "markdown",
   "metadata": {},
   "source": [
    "## Power Out"
   ]
  },
  {
   "cell_type": "code",
   "execution_count": null,
   "metadata": {
    "collapsed": true
   },
   "outputs": [],
   "source": [
    "def density(temp):\n",
    "    Density = (1.626*(10**-5)*temp**3-6.021*(10**-3)*temp**2+0.021*temp + 1000.066)/1000\n",
    "    return Density\n",
    "\n",
    "def specificHeat(temp):\n",
    "    SH = -3.588*(10**-11)*(temp**5)+1.212*(10**-8)*(temp**4)-1.564*(10**-6)*(temp**3)+1.036*(10**-4)*(temp**2)-3.266*(10**-3)*temp + 4.216\n",
    "    return SH\n",
    "\n",
    "def outputPwr(eventTuples, path = '/home/ihs01/Documents/NOTEBOOKS/DATA/'):\n",
    "    #read in flow data\n",
    "    fi = getEngData('flowin',eventTuples, path = '/home/ihs01/Documents/NOTEBOOKS/DATA/')\n",
    "    fo = getEngData('flowout',eventTuples, path = '/home/ihs01/Documents/NOTEBOOKS/DATA/')\n",
    "    fit = getEngData('flowin_rtd',eventTuples,path = '/home/ihs01/Documents/NOTEBOOKS/DATA/')\n",
    "    fot = getEngData('flowout_rtd',eventTuples,path = '/home/ihs01/Documents/NOTEBOOKS/DATA/')\n",
    "    \n",
    "    #temperatures\n",
    "    fitmean = fit[1].mean()\n",
    "    fotmean = fot[1].mean()\n",
    "    deltaT = fotmean-fitmean\n",
    "\n",
    "    #total volume in event\n",
    "    volumeInDelta = fi[1][-1] - fi[1][0]\n",
    "\n",
    "    #duration of event\n",
    "    dti = (fi[0][-1]-fi[0][0])\n",
    "    dtsi = dti.seconds\n",
    "    \n",
    "    #standard deviation of flow in\n",
    "    dateSDi = np.diff(fi[0]-fi[0][0])/np.timedelta64(1, 's')\n",
    "    fistd = np.std((fi[1][1:]-fi[1][:-1])/dateSDi)\n",
    "    fistd\n",
    "    \n",
    "    #Q flow in\n",
    "    Qin = volumeInDelta/dtsi*density(fitmean)*specificHeat(fitmean)*deltaT*1000\n",
    "    \n",
    "    #total volume out event\n",
    "    volumeOutDelta = fo[1][-1] - fo[1][0]\n",
    "    \n",
    "    #duration of event\n",
    "    dto = (fo[0][-1] - fo[0][0])\n",
    "    dtso = dto.seconds\n",
    "    \n",
    "    #standard deviation of flow out\n",
    "    dateSDo = np.diff(fo[0]-fo[0][0])/np.timedelta64(1, 's')\n",
    "    fostd = np.std((fo[1][1:]-fo[1][:-1])/dateSDo)\n",
    "    \n",
    "    #Q flow out\n",
    "    Qout = volumeOutDelta/dtso*density(fotmean)*specificHeat(fotmean)*deltaT*1000\n",
    "\n",
    "    return {'dT:':deltaT, 'IN Total Volume:':volumeInDelta, 'IN Duration:':dtsi, 'Q in:':Qin, 'OUT Total Volume:':volumeOutDelta, 'OUT Duration:':dtso, 'Q out:':Qout}\n"
   ]
  }
 ],
 "metadata": {
  "kernelspec": {
   "display_name": "Python 2",
   "language": "python",
   "name": "python2"
  },
  "language_info": {
   "codemirror_mode": {
    "name": "ipython",
    "version": 2
   },
   "file_extension": ".py",
   "mimetype": "text/x-python",
   "name": "python",
   "nbconvert_exporter": "python",
   "pygments_lexer": "ipython2",
   "version": "2.7.11"
  }
 },
 "nbformat": 4,
 "nbformat_minor": 0
}
