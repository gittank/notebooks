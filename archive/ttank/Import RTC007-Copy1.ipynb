{
 "cells": [
  {
   "cell_type": "code",
   "execution_count": 2,
   "metadata": {
    "collapsed": false
   },
   "outputs": [],
   "source": [
    "# run = '002'\n",
    "\n",
    "# cursor = connectDbase('rct007')\n",
    "\n",
    "# tbName0 = 'rct007_testID'\n",
    "# tbName1 = run+'_flowindata'\n",
    "# tbName2 = run+'_flowoutdata'\n",
    "# tbName3 = run+'_plcdata'\n",
    "# tbName4 = run+'_voltagedata'\n",
    "\n",
    "#read the last three hours\n",
    "# cursor = connectDbase('rct007')\n",
    "# tTime = tbName3\n",
    "# end = pd.to_datetime(lastTime(cursor, tTime))\n",
    "\n",
    "# info  = readNoDateTable(cursor, tbName0)\n",
    "# flin  = readLastNTable(cursor, tbName1)\n",
    "# flout = readLastNTable(cursor, tbName2)\n",
    "# plc   = readLastNTable(cursor, tbName3)\n",
    "# volt  = readLastNTable(cursor, tbName4)\n",
    "\n"
   ]
  },
  {
   "cell_type": "code",
   "execution_count": 3,
   "metadata": {
    "collapsed": false
   },
   "outputs": [],
   "source": [
    "# valve = plc.loc[:,['foreline_valve_closed', 'hivac_valve_closed','rough_valve_closed','sys_rct_valve_closed','sys_rga_valve_closed']]\n",
    "# rctTemp = plc.loc[:, ['rct_rtd1', 'rct_rtd2', 'rct_rtd3', 'rct_rtd4', 'rct_rtd5', 'rct_rtd6']]\n",
    "# valve.rename(columns={'foreline_valve_closed':'Foreline', 'hivac_valve_closed':'Hivac','rough_valve_closed':'Rough','sys_rct_valve_closed':'Sys RCT','sys_rga_valve_closed':'Sys RGA'}, inplace=True)\n",
    "\n",
    "from IPython.display import HTML\n",
    "\n",
    "def hover(hover_color=\"#ffff99\"):\n",
    "    return dict(selector=\"tr:hover\",\n",
    "                props=[(\"background-color\", \"%s\" % hover_color)])\n",
    "\n",
    "styles = [\n",
    "    hover(),\n",
    "    dict(selector=\"th\", props=[(\"font-size\", \"100%\"),\n",
    "                               (\"text-align\", \"center\")]),\n",
    "    dict(selector=\"caption\", props=[(\"caption-side\", \"bottom\")])\n",
    "]\n",
    "# html1 = (valve.style.set_table_styles(styles))\n",
    "# html2 = (rctTemp.style.set_table_styles(styles))\n"
   ]
  },
  {
   "cell_type": "code",
   "execution_count": 7,
   "metadata": {
    "collapsed": false
   },
   "outputs": [],
   "source": [
    "import sys\n",
    "import time\n",
    "from IPython.display import display,HTML,clear_output\n",
    "def dashboard(run='002', updateSec=3):\n",
    "\n",
    "    cursor = connectDbase('rct007')\n",
    "\n",
    "    tbName0 = 'rct007_testID'\n",
    "    tbName1 = run+'_flowindata'\n",
    "    tbName2 = run+'_flowoutdata'\n",
    "    tbName3 = run+'_plcdata'\n",
    "    tbName4 = run+'_voltagedata'\n",
    "\n",
    "    while(True):\n",
    "        time.sleep(updateSec)\n",
    "\n",
    "        cursor = connectDbase('rct007')\n",
    "        plc   = readLastNTable(cursor, tbName3,1)\n",
    "        volt  = readLastNTable(cursor, tbName4,1)\n",
    "        flin  = readLastNTable(cursor, tbName1)\n",
    "        flout = readLastNTable(cursor, tbName2)\n",
    "\n",
    "        valve = plc.loc[:,['foreline_valve_closed', 'hivac_valve_closed','rough_valve_closed','sys_rct_valve_closed','sys_rga_valve_closed']]\n",
    "        valve.rename(columns={'foreline_valve_closed':'Foreline', 'hivac_valve_closed':'Hivac','rough_valve_closed':'Rough','sys_rct_valve_closed':'Sys RCT','sys_rga_valve_closed':'Sys RGA'}, inplace=True)\n",
    "        vhtml = (valve.style.set_table_styles(styles)).set_caption('Valve State')\n",
    "\n",
    "\n",
    "        rctTemp = plc.loc[:, ['rct_rtd1', 'rct_rtd2', 'rct_rtd3', 'rct_rtd4', 'rct_rtd5', 'rct_rtd6']]\n",
    "        rctThtml = (rctTemp.style.set_table_styles(styles)).set_caption('Reactor Temperatures')\n",
    "\n",
    "        ambTemp = plc.loc[:, ['amb_rtd1', 'amb_rtd2', 'amb_rtd3', 'amb_rtd4']]\n",
    "        ambThtml = (ambTemp.style.set_table_styles(styles)).set_caption('Ambient Temperatures')\n",
    "\n",
    "        press = plc.loc[:, ['BaratronPress', 'forelinePress', 'systemPress']]\n",
    "        press.rename(columns={'BaratronPress':'Baratron', 'forelinePress':'Foreline','systemPress':'System'}, inplace=True)                    \n",
    "        phtml = (press.style.set_table_styles(styles)).set_caption('Pressure Readings')\n",
    "\n",
    "        heat = plc.loc[:, ['htrstate', 'htrtimeon', 'htrperiod', 'htr1duty', 'htr2duty','htr1_tc','htr2_tc']]\n",
    "        heat.rename(columns={'htrperiod':'Period', 'htrstate':'State', 'htr1duty':'Duty Cycle H1','htr2duty':'Duty Cycle H2','htrtimeon':'Time On','htr1_tc':'Temp H1','htr2_tc':'Temp H2'}, inplace=True)                    \n",
    "        hhtml = (heat.style.set_table_styles(styles)).set_caption('Heater Settings')\n",
    "\n",
    "        flow = plc.loc[:,['flowin_rtd','flowout_rtd'] ]\n",
    "        flow['rate in'] = flin.flowin[0]\n",
    "        flow['rate out'] = flout.flowout[0]\n",
    "        fhtml = (flow.style.set_table_styles(styles).set_caption('Water Cooler Flow'))\n",
    "\n",
    "        clear_output(wait=True)\n",
    "\n",
    "        #display(HTML('<font size=4><b>Foreline Pressure %3f</b></font>'%plc.forelinePress[0]))\n",
    "        display(HTML('<font size=4><b>Kernel -> Interrupt To Stop</b></font>'))\n",
    "        display((vhtml))\n",
    "        display((phtml))\n",
    "        display(rctThtml)\n",
    "        display(hhtml)\n",
    "        display(fhtml)"
   ]
  }
 ],
 "metadata": {
  "kernelspec": {
   "display_name": "Python 2",
   "language": "python",
   "name": "python2"
  },
  "language_info": {
   "codemirror_mode": {
    "name": "ipython",
    "version": 2
   },
   "file_extension": ".py",
   "mimetype": "text/x-python",
   "name": "python",
   "nbconvert_exporter": "python",
   "pygments_lexer": "ipython2",
   "version": "2.7.11"
  }
 },
 "nbformat": 4,
 "nbformat_minor": 0
}
