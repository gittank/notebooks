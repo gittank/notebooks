{
 "cells": [
  {
   "cell_type": "code",
   "execution_count": 2,
   "metadata": {
    "collapsed": false
   },
   "outputs": [],
   "source": [
    "%run 'Import Dbase.ipynb'\n",
    "%run 'Import Plots.ipynb'"
   ]
  },
  {
   "cell_type": "code",
   "execution_count": 3,
   "metadata": {
    "collapsed": false
   },
   "outputs": [],
   "source": [
    "# v1 heater 1 csv\n",
    "# v4 heater 2 csv\n",
    "# v5 line\n",
    "# v8 fan csv\n",
    "\n",
    "def tableName(run='004'):\n",
    "\n",
    "    cursor = connectDbase('rct007')\n",
    "\n",
    "    tbName0 = 'rct007_testID'\n",
    "    tbName1 = run+'_flowindata'\n",
    "    tbName2 = run+'_flowoutdata'\n",
    "    tbName3 = run+'_plcdata'\n",
    "    tbName4 = run+'_voltagedata'\n",
    "    tbName5 = run+'_logdata'\n",
    "    return [tbName0, tbName1, tbName2, tbName3, tbName4, tbName5]\n",
    "\n",
    "\n",
    "def findPower(cvs, line):\n",
    "    senseR = 2.\n",
    "    voltD = 23.\n",
    "    ph1 = (cvs/senseR) * (line*voltD)\n",
    "    mph1 = np.mean(ph1)\n",
    "    sph1 = np.std(ph1)\n",
    "    return mph1, sph1\n",
    "\n",
    "def findInputPower(volt):\n",
    "    [mheater1,sheater1] = findPower(volt.v1, volt.v5)\n",
    "    [mheater2,sheater2] = findPower(volt.v4, volt.v5)\n",
    "    [mfan,sfan] = findPower(volt.v8, volt.v5)\n",
    "    inputPower =  mheater1 + mheater2 + mfan\n",
    "    return inputPower\n",
    "\n",
    "def readVolt(start, end):\n",
    "    a = '''\n",
    "    SELECT *\n",
    "    FROM %s ''' \n",
    "\n",
    "    b = '''\n",
    "    WHERE date between \\'%s\\' AND \\'%s\\'\n",
    "    '''%(start, end)\n",
    "    rmsQuery = a+b\n",
    "    volt = readTable(cursor, t4, rmsQuery)\n",
    "    return volt\n",
    "\n",
    "def parseLog(cursor, run):\n",
    "    log = readNoDateTable(cursor, run+'_logdata')\n",
    "    stateStart = log[log.state=='1'].date\n",
    "    stateEnd = log[log.state=='0'].date\n",
    "    return stateStart, stateEnd\n",
    "\n",
    "def inputPowerVect(start, end):\n",
    "    out = []\n",
    "    for ii,s in enumerate(start):\n",
    "        volt = readVolt(s,pd.to_datetime(end.values[ii]))\n",
    "        out.append(findInputPower(volt))\n",
    "    return out    \n",
    "\n",
    "def rtdStats(rtd, amb, s, e):\n",
    "    rtdMean = rtd.mean().mean()\n",
    "    rtdStd = rtd.std().mean()\n",
    "    boxMean = amb[['amb_rtd3','amb_rtd4']].mean().mean()\n",
    "    ceilMean = amb[['amb_rtd1','amb_rtd2']].mean().mean()\n",
    "    return rtdMean, rtdStd, boxMean, ceilMean\n",
    "\n",
    "def rtdVect(cursor, t3, start, end):\n",
    "    outM = []\n",
    "    outS = []\n",
    "    outB = []\n",
    "    outC = []\n",
    "    for ii,s in enumerate(start):\n",
    "        \n",
    "        plc = readDateTable(cursor, t3, s, pd.to_datetime(end.values[ii]))\n",
    "        rct = plc[['rct_rtd1', 'rct_rtd2', 'rct_rtd3', 'rct_rtd4', 'rct_rtd5', 'rct_rtd6']]\n",
    "        amb = plc[['amb_rtd1','amb_rtd2','amb_rtd3','amb_rtd4']]\n",
    "  \n",
    "        \n",
    "        [rm, rs, bm, cm] = rtdStats(rct, amb, s,pd.to_datetime(end.values[ii]))\n",
    "        outM.append(rm)\n",
    "        outS.append(rs)\n",
    "        outB.append(bm)\n",
    "        outC.append(cm)\n",
    "    return outM, outS, outB, outC\n",
    "\n",
    "def flowStats(table, col, start, end):\n",
    "    fi = readDateTable(cursor, table, start, end)\n",
    "    pulseInDelta = fi.ix[-1,col] - fi.ix[0,col]\n",
    "    dt = (fi.date[-1] - fi.date[0])\n",
    "    #print fi.date[0], fi.date[-1]\n",
    "    dts = dt.seconds\n",
    "    fistd = np.std(np.diff(fi[col][1:-2]))\n",
    "    return pulseInDelta, fistd, dts\n",
    "\n",
    "\n",
    "def density(temp):\n",
    "    Density = (1.626*(10**-5)*temp**3-6.021*(10**-3)*temp**2+0.021*temp + 1000.066)/1000\n",
    "    return Density\n",
    "\n",
    "def specificHeat(temp):\n",
    "    SH = -3.588*(10**-11)*(temp**5)+1.212*(10**-8)*(temp**4)-1.564*(10**-6)*(temp**3)+1.036*(10**-4)*(temp**2)-3.266*(10**-3)*temp + 4.216\n",
    "    return SH\n",
    "\n",
    "def heatOutput(pulseOutDelta, pulseInDelta, flowInTemp, flowOutTemp, sampleTime):\n",
    "    \n",
    "    deltaT = flowOutTemp - flowInTemp\n",
    "    Germanflowmetercalibration = 1860.\n",
    "\n",
    "    #liter per min, there is error as OUT is greater than IN\n",
    "    FLOWINVOLUME = pulseInDelta / Germanflowmetercalibration / sampleTime\n",
    "    FLOWOUTVOLUME = pulseOutDelta / Germanflowmetercalibration / sampleTime\n",
    "    #Mass flow rate - kg/sec\n",
    "    Massflowin = FLOWINVOLUME * density(flowInTemp)\n",
    "    Massflowout = FLOWOUTVOLUME * density(flowOutTemp)\n",
    "\n",
    "    #Multiplying to get Q (mcdT) J/sec [W]\n",
    "    Qin = (Massflowin * specificHeat(flowInTemp) * deltaT)*1000.\n",
    "    Qout = (Massflowout * specificHeat(flowOutTemp) * deltaT)*1000.\n",
    "    Qfinal = (Qin+Qout)/2.\n",
    "\n",
    "    return Qfinal\n",
    "\n",
    "def heatCalc(pulseDelta, flowTemp, deltaTemp, timeInteraval):\n",
    "    \n",
    "    germanFlowMeterCalibration = 1860.\n",
    "\n",
    "    #liter per min, there is error as OUT is greater than IN\n",
    "    volumeFlow = pulseDelta / germanFlowMeterCalibration / timeInteraval\n",
    "    \n",
    "    #Mass flow rate - kg/sec\n",
    "    massFlow = volumeFlow * density(flowTemp)\n",
    "\n",
    "    #Multiplying to get Q (mcdT) J/sec [W]\n",
    "    Q = (massFlow * specificHeat(flowTemp) * deltaTemp)*1000.\n",
    "    \n",
    "    return Q\n"
   ]
  },
  {
   "cell_type": "code",
   "execution_count": 4,
   "metadata": {
    "collapsed": false
   },
   "outputs": [],
   "source": [
    "def flowVect(cursor, tin, tout, t3, start, end):\n",
    "    fiPulse = []\n",
    "    foPulse = []\n",
    "    fiStd = []\n",
    "    foStd = []\n",
    "    qInV = []\n",
    "    qOutV = []\n",
    "    for ii,s in enumerate(start):\n",
    "        plc = readDateTable(cursor, t3, s, pd.to_datetime(end.values[ii]))\n",
    "        flow = plc[['flowin_rtd','flowout_rtd']]\n",
    "        ftmean = flow.mean()\n",
    "        deltaTemp = ftmean[1] - ftmean[0]\n",
    "        \n",
    "        [fip, fis, dtsi] = flowStats(tin, 'flowin', s, pd.to_datetime(end.values[ii]))\n",
    "        [fop, fos, dtso] = flowStats(tout, 'flowout', s, pd.to_datetime(end.values[ii]))\n",
    "\n",
    "        #heatOutOne = heatOutput(fop, fip, ftmean[0], ftmean[1], dtsi)\n",
    "        Qin  = heatCalc(fip, ftmean[0], deltaTemp, dtsi)\n",
    "        Qout = heatCalc(fop, ftmean[1], deltaTemp, dtso)\n",
    "        Qfinal = (Qin+Qout)/2.\n",
    "        print ii, Qin, Qout\n",
    "        \n",
    "        fiPulse.append(fip)\n",
    "        fiStd.append(fis)\n",
    "        foPulse.append(fop)\n",
    "        foStd.append(fos)\n",
    "        qInV.append(Qin)\n",
    "        qOutV.append(Qout)\n",
    "        \n",
    "    return fiPulse, fiStd, foPulse, foStd, qInV, qOutV"
   ]
  },
  {
   "cell_type": "code",
   "execution_count": 5,
   "metadata": {
    "collapsed": false
   },
   "outputs": [
    {
     "ename": "NameError",
     "evalue": "name 'start' is not defined",
     "output_type": "error",
     "traceback": [
      "\u001b[1;31m---------------------------------------------------------------------------\u001b[0m",
      "\u001b[1;31mNameError\u001b[0m                                 Traceback (most recent call last)",
      "\u001b[1;32m<ipython-input-5-df02c4ef9ebb>\u001b[0m in \u001b[0;36m<module>\u001b[1;34m()\u001b[0m\n\u001b[1;32m----> 1\u001b[1;33m \u001b[0ms\u001b[0m \u001b[1;33m=\u001b[0m \u001b[0mstart\u001b[0m\u001b[1;33m.\u001b[0m\u001b[0mcopy\u001b[0m\u001b[1;33m(\u001b[0m\u001b[1;33m)\u001b[0m\u001b[1;33m\u001b[0m\u001b[0m\n\u001b[0m\u001b[0;32m      2\u001b[0m \u001b[0me\u001b[0m \u001b[1;33m=\u001b[0m \u001b[0mend\u001b[0m\u001b[1;33m.\u001b[0m\u001b[0mcopy\u001b[0m\u001b[1;33m(\u001b[0m\u001b[1;33m)\u001b[0m\u001b[1;33m\u001b[0m\u001b[0m\n\u001b[0;32m      3\u001b[0m \u001b[0ms\u001b[0m\u001b[1;33m.\u001b[0m\u001b[0mreset_index\u001b[0m\u001b[1;33m(\u001b[0m\u001b[1;33m)\u001b[0m\u001b[1;33m\u001b[0m\u001b[0m\n",
      "\u001b[1;31mNameError\u001b[0m: name 'start' is not defined"
     ]
    }
   ],
   "source": [
    "s = start.copy()\n",
    "e = end.copy()\n",
    "s.reset_index()"
   ]
  },
  {
   "cell_type": "code",
   "execution_count": 87,
   "metadata": {
    "collapsed": false
   },
   "outputs": [
    {
     "name": "stdout",
     "output_type": "stream",
     "text": [
      "0 27.0766923726 25.6685505691\n",
      "1 45.9009443179 42.8273135583\n",
      "2 66.8437408586 60.849060773\n",
      "3 99.548512805 91.4494919628\n",
      "4 171.869732665 159.627103059\n",
      "5 239.258293598 221.836800614\n",
      "6 25.7246306486 24.3540658234\n",
      "7 26.3109057563 24.8347380114\n",
      "8 44.6201790039 42.5938764283\n",
      "9 63.8173618139 61.4995863567\n",
      "10 100.550573696 98.7372242457\n",
      "11 166.369444289 167.504980105\n",
      "12 230.937759457 215.383276778\n",
      "13 27.3702623482 25.733074269\n",
      "14 27.2437473747 24.4405086115\n",
      "15 43.8163097084 40.8094112442\n",
      "16 62.8415308081 58.3811236895\n",
      "17 98.9495362945 88.7982399168\n",
      "18 165.840586874 155.203286018\n",
      "19 233.802781759 217.537765775\n",
      "20 26.5239276411 25.1589018134\n",
      "21 25.7108092575 23.7733927369\n",
      "22 44.1659587174 40.4750618787\n",
      "23 63.3689336271 57.3290269834\n",
      "24 99.2463915038 89.9859103443\n",
      "25 165.241107002 150.448060862\n",
      "26 237.003412281 212.952381838\n",
      "27 27.3835369652 25.1915310073\n",
      "28 25.9290729621 23.5353592774\n",
      "29 44.8090909064 40.6352259393\n",
      "30 63.2038582474 55.9107007114\n",
      "31 99.9981766557 88.1496068756\n",
      "32 172.132445393 149.8008235\n",
      "33 234.841683319 209.435776844\n",
      "34 27.5688030611 25.3324761029\n",
      "35 27.5594328012 25.103765255\n",
      "36 44.7657262615 39.390585201\n",
      "37 62.8753506627 55.8322049958\n",
      "38 98.9284246624 92.8315989939\n",
      "39 171.243114862 151.928709678\n",
      "40 237.676727445 213.532712602\n",
      "41 27.3861791918 25.0253582449\n",
      "42 26.3998926886 23.6479351567\n",
      "43 44.4505573511 39.7371577775\n",
      "44 60.5307836616 53.8260972759\n",
      "45 98.5517325022 87.1545640283\n",
      "46 169.287917873 146.603680132\n",
      "47 234.933782681 200.482012773\n",
      "48 23.7468991639 20.8998961901\n",
      "49 22.4665421935 20.0107692344\n",
      "50 41.3881548751 36.7795300293\n",
      "51 60.4534460299 54.2708349023\n",
      "52 98.6201445155 86.9423312536\n",
      "53 169.801606051 145.123912675\n",
      "54 236.769092413 199.742625414\n",
      "55 22.4762955039 19.8891769001\n",
      "56 21.8194233293 19.2342809669\n",
      "57 40.4517916314 36.1445083596\n",
      "58 60.1609240288 53.5172124718\n",
      "59 98.1610949658 86.5335527792\n",
      "60 169.262373295 144.952499677\n",
      "61 234.450895227 199.937771796\n",
      "62 22.5769853339 19.5810451356\n",
      "63 21.753292728 19.0182499658\n",
      "64 40.4109045877 35.9102041014\n",
      "65 58.7083430845 51.4717598822\n",
      "66 96.4020731088 84.215449741\n",
      "67 168.117674103 144.674129408\n",
      "68 237.035053449 203.46890674\n",
      "69 22.9157051236 20.4548542506\n",
      "70 20.6714003872 18.7465048128\n"
     ]
    },
    {
     "ename": "IndexError",
     "evalue": "index -1 is out of bounds for axis 0 with size 0",
     "output_type": "error",
     "traceback": [
      "\u001b[1;31m---------------------------------------------------------------------------\u001b[0m",
      "\u001b[1;31mIndexError\u001b[0m                                Traceback (most recent call last)",
      "\u001b[1;32m<ipython-input-87-ec36e4165f7a>\u001b[0m in \u001b[0;36m<module>\u001b[1;34m()\u001b[0m\n\u001b[1;32m----> 1\u001b[1;33m \u001b[0mflowOut\u001b[0m \u001b[1;33m=\u001b[0m \u001b[0mflowVect\u001b[0m\u001b[1;33m(\u001b[0m\u001b[0mcursor\u001b[0m\u001b[1;33m,\u001b[0m \u001b[0mt1\u001b[0m\u001b[1;33m,\u001b[0m \u001b[0mt2\u001b[0m\u001b[1;33m,\u001b[0m \u001b[0mt3\u001b[0m\u001b[1;33m,\u001b[0m \u001b[0mstart\u001b[0m\u001b[1;33m,\u001b[0m \u001b[0mend\u001b[0m\u001b[1;33m)\u001b[0m\u001b[1;33m\u001b[0m\u001b[0m\n\u001b[0m",
      "\u001b[1;32m<ipython-input-86-8a1b6ac8dfc2>\u001b[0m in \u001b[0;36mflowVect\u001b[1;34m(cursor, tin, tout, t3, start, end)\u001b[0m\n\u001b[0;32m     13\u001b[0m \u001b[1;33m\u001b[0m\u001b[0m\n\u001b[0;32m     14\u001b[0m         \u001b[1;33m[\u001b[0m\u001b[0mfip\u001b[0m\u001b[1;33m,\u001b[0m \u001b[0mfis\u001b[0m\u001b[1;33m,\u001b[0m \u001b[0mdtsi\u001b[0m\u001b[1;33m]\u001b[0m \u001b[1;33m=\u001b[0m \u001b[0mflowStats\u001b[0m\u001b[1;33m(\u001b[0m\u001b[0mtin\u001b[0m\u001b[1;33m,\u001b[0m \u001b[1;34m'flowin'\u001b[0m\u001b[1;33m,\u001b[0m \u001b[0ms\u001b[0m\u001b[1;33m,\u001b[0m \u001b[0mpd\u001b[0m\u001b[1;33m.\u001b[0m\u001b[0mto_datetime\u001b[0m\u001b[1;33m(\u001b[0m\u001b[0mend\u001b[0m\u001b[1;33m.\u001b[0m\u001b[0mvalues\u001b[0m\u001b[1;33m[\u001b[0m\u001b[0mii\u001b[0m\u001b[1;33m]\u001b[0m\u001b[1;33m)\u001b[0m\u001b[1;33m)\u001b[0m\u001b[1;33m\u001b[0m\u001b[0m\n\u001b[1;32m---> 15\u001b[1;33m         \u001b[1;33m[\u001b[0m\u001b[0mfop\u001b[0m\u001b[1;33m,\u001b[0m \u001b[0mfos\u001b[0m\u001b[1;33m,\u001b[0m \u001b[0mdtso\u001b[0m\u001b[1;33m]\u001b[0m \u001b[1;33m=\u001b[0m \u001b[0mflowStats\u001b[0m\u001b[1;33m(\u001b[0m\u001b[0mtout\u001b[0m\u001b[1;33m,\u001b[0m \u001b[1;34m'flowout'\u001b[0m\u001b[1;33m,\u001b[0m \u001b[0ms\u001b[0m\u001b[1;33m,\u001b[0m \u001b[0mpd\u001b[0m\u001b[1;33m.\u001b[0m\u001b[0mto_datetime\u001b[0m\u001b[1;33m(\u001b[0m\u001b[0mend\u001b[0m\u001b[1;33m.\u001b[0m\u001b[0mvalues\u001b[0m\u001b[1;33m[\u001b[0m\u001b[0mii\u001b[0m\u001b[1;33m]\u001b[0m\u001b[1;33m)\u001b[0m\u001b[1;33m)\u001b[0m\u001b[1;33m\u001b[0m\u001b[0m\n\u001b[0m\u001b[0;32m     16\u001b[0m \u001b[1;33m\u001b[0m\u001b[0m\n\u001b[0;32m     17\u001b[0m         \u001b[1;31m#heatOutOne = heatOutput(fop, fip, ftmean[0], ftmean[1], dtsi)\u001b[0m\u001b[1;33m\u001b[0m\u001b[1;33m\u001b[0m\u001b[0m\n",
      "\u001b[1;32m<ipython-input-85-c71fa16edf1f>\u001b[0m in \u001b[0;36mflowStats\u001b[1;34m(table, col, start, end)\u001b[0m\n\u001b[0;32m     85\u001b[0m \u001b[1;32mdef\u001b[0m \u001b[0mflowStats\u001b[0m\u001b[1;33m(\u001b[0m\u001b[0mtable\u001b[0m\u001b[1;33m,\u001b[0m \u001b[0mcol\u001b[0m\u001b[1;33m,\u001b[0m \u001b[0mstart\u001b[0m\u001b[1;33m,\u001b[0m \u001b[0mend\u001b[0m\u001b[1;33m)\u001b[0m\u001b[1;33m:\u001b[0m\u001b[1;33m\u001b[0m\u001b[0m\n\u001b[0;32m     86\u001b[0m     \u001b[0mfi\u001b[0m \u001b[1;33m=\u001b[0m \u001b[0mreadDateTable\u001b[0m\u001b[1;33m(\u001b[0m\u001b[0mcursor\u001b[0m\u001b[1;33m,\u001b[0m \u001b[0mtable\u001b[0m\u001b[1;33m,\u001b[0m \u001b[0mstart\u001b[0m\u001b[1;33m,\u001b[0m \u001b[0mend\u001b[0m\u001b[1;33m)\u001b[0m\u001b[1;33m\u001b[0m\u001b[0m\n\u001b[1;32m---> 87\u001b[1;33m     \u001b[0mpulseInDelta\u001b[0m \u001b[1;33m=\u001b[0m \u001b[0mfi\u001b[0m\u001b[1;33m.\u001b[0m\u001b[0mix\u001b[0m\u001b[1;33m[\u001b[0m\u001b[1;33m-\u001b[0m\u001b[1;36m1\u001b[0m\u001b[1;33m,\u001b[0m\u001b[0mcol\u001b[0m\u001b[1;33m]\u001b[0m \u001b[1;33m-\u001b[0m \u001b[0mfi\u001b[0m\u001b[1;33m.\u001b[0m\u001b[0mix\u001b[0m\u001b[1;33m[\u001b[0m\u001b[1;36m0\u001b[0m\u001b[1;33m,\u001b[0m\u001b[0mcol\u001b[0m\u001b[1;33m]\u001b[0m\u001b[1;33m\u001b[0m\u001b[0m\n\u001b[0m\u001b[0;32m     88\u001b[0m     \u001b[0mdt\u001b[0m \u001b[1;33m=\u001b[0m \u001b[1;33m(\u001b[0m\u001b[0mfi\u001b[0m\u001b[1;33m.\u001b[0m\u001b[0mdate\u001b[0m\u001b[1;33m[\u001b[0m\u001b[1;33m-\u001b[0m\u001b[1;36m1\u001b[0m\u001b[1;33m]\u001b[0m \u001b[1;33m-\u001b[0m \u001b[0mfi\u001b[0m\u001b[1;33m.\u001b[0m\u001b[0mdate\u001b[0m\u001b[1;33m[\u001b[0m\u001b[1;36m0\u001b[0m\u001b[1;33m]\u001b[0m\u001b[1;33m)\u001b[0m\u001b[1;33m\u001b[0m\u001b[0m\n\u001b[0;32m     89\u001b[0m     \u001b[1;31m#print fi.date[0], fi.date[-1]\u001b[0m\u001b[1;33m\u001b[0m\u001b[1;33m\u001b[0m\u001b[0m\n",
      "\u001b[1;32m/home/ihs01/anaconda2/lib/python2.7/site-packages/pandas/core/indexing.pyc\u001b[0m in \u001b[0;36m__getitem__\u001b[1;34m(self, key)\u001b[0m\n\u001b[0;32m     66\u001b[0m                 \u001b[1;32mpass\u001b[0m\u001b[1;33m\u001b[0m\u001b[0m\n\u001b[0;32m     67\u001b[0m \u001b[1;33m\u001b[0m\u001b[0m\n\u001b[1;32m---> 68\u001b[1;33m             \u001b[1;32mreturn\u001b[0m \u001b[0mself\u001b[0m\u001b[1;33m.\u001b[0m\u001b[0m_getitem_tuple\u001b[0m\u001b[1;33m(\u001b[0m\u001b[0mkey\u001b[0m\u001b[1;33m)\u001b[0m\u001b[1;33m\u001b[0m\u001b[0m\n\u001b[0m\u001b[0;32m     69\u001b[0m         \u001b[1;32melse\u001b[0m\u001b[1;33m:\u001b[0m\u001b[1;33m\u001b[0m\u001b[0m\n\u001b[0;32m     70\u001b[0m             \u001b[1;32mreturn\u001b[0m \u001b[0mself\u001b[0m\u001b[1;33m.\u001b[0m\u001b[0m_getitem_axis\u001b[0m\u001b[1;33m(\u001b[0m\u001b[0mkey\u001b[0m\u001b[1;33m,\u001b[0m \u001b[0maxis\u001b[0m\u001b[1;33m=\u001b[0m\u001b[1;36m0\u001b[0m\u001b[1;33m)\u001b[0m\u001b[1;33m\u001b[0m\u001b[0m\n",
      "\u001b[1;32m/home/ihs01/anaconda2/lib/python2.7/site-packages/pandas/core/indexing.pyc\u001b[0m in \u001b[0;36m_getitem_tuple\u001b[1;34m(self, tup)\u001b[0m\n\u001b[0;32m    736\u001b[0m     \u001b[1;32mdef\u001b[0m \u001b[0m_getitem_tuple\u001b[0m\u001b[1;33m(\u001b[0m\u001b[0mself\u001b[0m\u001b[1;33m,\u001b[0m \u001b[0mtup\u001b[0m\u001b[1;33m)\u001b[0m\u001b[1;33m:\u001b[0m\u001b[1;33m\u001b[0m\u001b[0m\n\u001b[0;32m    737\u001b[0m         \u001b[1;32mtry\u001b[0m\u001b[1;33m:\u001b[0m\u001b[1;33m\u001b[0m\u001b[0m\n\u001b[1;32m--> 738\u001b[1;33m             \u001b[1;32mreturn\u001b[0m \u001b[0mself\u001b[0m\u001b[1;33m.\u001b[0m\u001b[0m_getitem_lowerdim\u001b[0m\u001b[1;33m(\u001b[0m\u001b[0mtup\u001b[0m\u001b[1;33m)\u001b[0m\u001b[1;33m\u001b[0m\u001b[0m\n\u001b[0m\u001b[0;32m    739\u001b[0m         \u001b[1;32mexcept\u001b[0m \u001b[0mIndexingError\u001b[0m\u001b[1;33m:\u001b[0m\u001b[1;33m\u001b[0m\u001b[0m\n\u001b[0;32m    740\u001b[0m             \u001b[1;32mpass\u001b[0m\u001b[1;33m\u001b[0m\u001b[0m\n",
      "\u001b[1;32m/home/ihs01/anaconda2/lib/python2.7/site-packages/pandas/core/indexing.pyc\u001b[0m in \u001b[0;36m_getitem_lowerdim\u001b[1;34m(self, tup)\u001b[0m\n\u001b[0;32m    861\u001b[0m         \u001b[1;32mfor\u001b[0m \u001b[0mi\u001b[0m\u001b[1;33m,\u001b[0m \u001b[0mkey\u001b[0m \u001b[1;32min\u001b[0m \u001b[0menumerate\u001b[0m\u001b[1;33m(\u001b[0m\u001b[0mtup\u001b[0m\u001b[1;33m)\u001b[0m\u001b[1;33m:\u001b[0m\u001b[1;33m\u001b[0m\u001b[0m\n\u001b[0;32m    862\u001b[0m             \u001b[1;32mif\u001b[0m \u001b[0mis_label_like\u001b[0m\u001b[1;33m(\u001b[0m\u001b[0mkey\u001b[0m\u001b[1;33m)\u001b[0m \u001b[1;32mor\u001b[0m \u001b[0misinstance\u001b[0m\u001b[1;33m(\u001b[0m\u001b[0mkey\u001b[0m\u001b[1;33m,\u001b[0m \u001b[0mtuple\u001b[0m\u001b[1;33m)\u001b[0m\u001b[1;33m:\u001b[0m\u001b[1;33m\u001b[0m\u001b[0m\n\u001b[1;32m--> 863\u001b[1;33m                 \u001b[0msection\u001b[0m \u001b[1;33m=\u001b[0m \u001b[0mself\u001b[0m\u001b[1;33m.\u001b[0m\u001b[0m_getitem_axis\u001b[0m\u001b[1;33m(\u001b[0m\u001b[0mkey\u001b[0m\u001b[1;33m,\u001b[0m \u001b[0maxis\u001b[0m\u001b[1;33m=\u001b[0m\u001b[0mi\u001b[0m\u001b[1;33m)\u001b[0m\u001b[1;33m\u001b[0m\u001b[0m\n\u001b[0m\u001b[0;32m    864\u001b[0m \u001b[1;33m\u001b[0m\u001b[0m\n\u001b[0;32m    865\u001b[0m                 \u001b[1;31m# we have yielded a scalar ?\u001b[0m\u001b[1;33m\u001b[0m\u001b[1;33m\u001b[0m\u001b[0m\n",
      "\u001b[1;32m/home/ihs01/anaconda2/lib/python2.7/site-packages/pandas/core/indexing.pyc\u001b[0m in \u001b[0;36m_getitem_axis\u001b[1;34m(self, key, axis)\u001b[0m\n\u001b[0;32m    963\u001b[0m                 \u001b[1;31m# this is the fallback! (for a non-float, non-integer index)\u001b[0m\u001b[1;33m\u001b[0m\u001b[1;33m\u001b[0m\u001b[0m\n\u001b[0;32m    964\u001b[0m                 \u001b[1;32mif\u001b[0m \u001b[1;32mnot\u001b[0m \u001b[0mlabels\u001b[0m\u001b[1;33m.\u001b[0m\u001b[0mis_floating\u001b[0m\u001b[1;33m(\u001b[0m\u001b[1;33m)\u001b[0m \u001b[1;32mand\u001b[0m \u001b[1;32mnot\u001b[0m \u001b[0mlabels\u001b[0m\u001b[1;33m.\u001b[0m\u001b[0mis_integer\u001b[0m\u001b[1;33m(\u001b[0m\u001b[1;33m)\u001b[0m\u001b[1;33m:\u001b[0m\u001b[1;33m\u001b[0m\u001b[0m\n\u001b[1;32m--> 965\u001b[1;33m                     \u001b[1;32mreturn\u001b[0m \u001b[0mself\u001b[0m\u001b[1;33m.\u001b[0m\u001b[0m_get_loc\u001b[0m\u001b[1;33m(\u001b[0m\u001b[0mkey\u001b[0m\u001b[1;33m,\u001b[0m \u001b[0maxis\u001b[0m\u001b[1;33m=\u001b[0m\u001b[0maxis\u001b[0m\u001b[1;33m)\u001b[0m\u001b[1;33m\u001b[0m\u001b[0m\n\u001b[0m\u001b[0;32m    966\u001b[0m \u001b[1;33m\u001b[0m\u001b[0m\n\u001b[0;32m    967\u001b[0m             \u001b[1;32mreturn\u001b[0m \u001b[0mself\u001b[0m\u001b[1;33m.\u001b[0m\u001b[0m_get_label\u001b[0m\u001b[1;33m(\u001b[0m\u001b[0mkey\u001b[0m\u001b[1;33m,\u001b[0m \u001b[0maxis\u001b[0m\u001b[1;33m=\u001b[0m\u001b[0maxis\u001b[0m\u001b[1;33m)\u001b[0m\u001b[1;33m\u001b[0m\u001b[0m\n",
      "\u001b[1;32m/home/ihs01/anaconda2/lib/python2.7/site-packages/pandas/core/indexing.pyc\u001b[0m in \u001b[0;36m_get_loc\u001b[1;34m(self, key, axis)\u001b[0m\n\u001b[0;32m     87\u001b[0m \u001b[1;33m\u001b[0m\u001b[0m\n\u001b[0;32m     88\u001b[0m     \u001b[1;32mdef\u001b[0m \u001b[0m_get_loc\u001b[0m\u001b[1;33m(\u001b[0m\u001b[0mself\u001b[0m\u001b[1;33m,\u001b[0m \u001b[0mkey\u001b[0m\u001b[1;33m,\u001b[0m \u001b[0maxis\u001b[0m\u001b[1;33m=\u001b[0m\u001b[1;36m0\u001b[0m\u001b[1;33m)\u001b[0m\u001b[1;33m:\u001b[0m\u001b[1;33m\u001b[0m\u001b[0m\n\u001b[1;32m---> 89\u001b[1;33m         \u001b[1;32mreturn\u001b[0m \u001b[0mself\u001b[0m\u001b[1;33m.\u001b[0m\u001b[0mobj\u001b[0m\u001b[1;33m.\u001b[0m\u001b[0m_ixs\u001b[0m\u001b[1;33m(\u001b[0m\u001b[0mkey\u001b[0m\u001b[1;33m,\u001b[0m \u001b[0maxis\u001b[0m\u001b[1;33m=\u001b[0m\u001b[0maxis\u001b[0m\u001b[1;33m)\u001b[0m\u001b[1;33m\u001b[0m\u001b[0m\n\u001b[0m\u001b[0;32m     90\u001b[0m \u001b[1;33m\u001b[0m\u001b[0m\n\u001b[0;32m     91\u001b[0m     \u001b[1;32mdef\u001b[0m \u001b[0m_slice\u001b[0m\u001b[1;33m(\u001b[0m\u001b[0mself\u001b[0m\u001b[1;33m,\u001b[0m \u001b[0mobj\u001b[0m\u001b[1;33m,\u001b[0m \u001b[0maxis\u001b[0m\u001b[1;33m=\u001b[0m\u001b[1;36m0\u001b[0m\u001b[1;33m,\u001b[0m \u001b[0mkind\u001b[0m\u001b[1;33m=\u001b[0m\u001b[0mNone\u001b[0m\u001b[1;33m)\u001b[0m\u001b[1;33m:\u001b[0m\u001b[1;33m\u001b[0m\u001b[0m\n",
      "\u001b[1;32m/home/ihs01/anaconda2/lib/python2.7/site-packages/pandas/core/frame.pyc\u001b[0m in \u001b[0;36m_ixs\u001b[1;34m(self, i, axis)\u001b[0m\n\u001b[0;32m   1882\u001b[0m                 \u001b[1;32mreturn\u001b[0m \u001b[0mself\u001b[0m\u001b[1;33m[\u001b[0m\u001b[0mi\u001b[0m\u001b[1;33m]\u001b[0m\u001b[1;33m\u001b[0m\u001b[0m\n\u001b[0;32m   1883\u001b[0m             \u001b[1;32melse\u001b[0m\u001b[1;33m:\u001b[0m\u001b[1;33m\u001b[0m\u001b[0m\n\u001b[1;32m-> 1884\u001b[1;33m                 \u001b[0mlabel\u001b[0m \u001b[1;33m=\u001b[0m \u001b[0mself\u001b[0m\u001b[1;33m.\u001b[0m\u001b[0mindex\u001b[0m\u001b[1;33m[\u001b[0m\u001b[0mi\u001b[0m\u001b[1;33m]\u001b[0m\u001b[1;33m\u001b[0m\u001b[0m\n\u001b[0m\u001b[0;32m   1885\u001b[0m                 \u001b[1;32mif\u001b[0m \u001b[0misinstance\u001b[0m\u001b[1;33m(\u001b[0m\u001b[0mlabel\u001b[0m\u001b[1;33m,\u001b[0m \u001b[0mIndex\u001b[0m\u001b[1;33m)\u001b[0m\u001b[1;33m:\u001b[0m\u001b[1;33m\u001b[0m\u001b[0m\n\u001b[0;32m   1886\u001b[0m                     \u001b[1;31m# a location index by definition\u001b[0m\u001b[1;33m\u001b[0m\u001b[1;33m\u001b[0m\u001b[0m\n",
      "\u001b[1;32m/home/ihs01/anaconda2/lib/python2.7/site-packages/pandas/core/index.pyc\u001b[0m in \u001b[0;36m__getitem__\u001b[1;34m(self, key)\u001b[0m\n\u001b[0;32m   1147\u001b[0m \u001b[1;33m\u001b[0m\u001b[0m\n\u001b[0;32m   1148\u001b[0m         \u001b[1;32mif\u001b[0m \u001b[0mnp\u001b[0m\u001b[1;33m.\u001b[0m\u001b[0misscalar\u001b[0m\u001b[1;33m(\u001b[0m\u001b[0mkey\u001b[0m\u001b[1;33m)\u001b[0m\u001b[1;33m:\u001b[0m\u001b[1;33m\u001b[0m\u001b[0m\n\u001b[1;32m-> 1149\u001b[1;33m             \u001b[1;32mreturn\u001b[0m \u001b[0mgetitem\u001b[0m\u001b[1;33m(\u001b[0m\u001b[0mkey\u001b[0m\u001b[1;33m)\u001b[0m\u001b[1;33m\u001b[0m\u001b[0m\n\u001b[0m\u001b[0;32m   1150\u001b[0m \u001b[1;33m\u001b[0m\u001b[0m\n\u001b[0;32m   1151\u001b[0m         \u001b[1;32mif\u001b[0m \u001b[0misinstance\u001b[0m\u001b[1;33m(\u001b[0m\u001b[0mkey\u001b[0m\u001b[1;33m,\u001b[0m \u001b[0mslice\u001b[0m\u001b[1;33m)\u001b[0m\u001b[1;33m:\u001b[0m\u001b[1;33m\u001b[0m\u001b[0m\n",
      "\u001b[1;31mIndexError\u001b[0m: index -1 is out of bounds for axis 0 with size 0"
     ]
    }
   ],
   "source": [
    "flowOut = flowVect(cursor, t1, t2, t3, start, end)\n"
   ]
  },
  {
   "cell_type": "code",
   "execution_count": null,
   "metadata": {
    "collapsed": true
   },
   "outputs": [],
   "source": []
  },
  {
   "cell_type": "code",
   "execution_count": 7,
   "metadata": {
    "collapsed": false
   },
   "outputs": [
    {
     "name": "stdout",
     "output_type": "stream",
     "text": [
      "0 27.0766923726 25.6685505691\n",
      "1 45.9009443179 42.8273135583\n",
      "2 66.8437408586 60.849060773\n",
      "3 99.548512805 91.4494919628\n"
     ]
    }
   ],
   "source": [
    "cursor = connectDbase('rct007')\n",
    "[t0,t1,t2,t3,t4,t5] = tableName('004')\n",
    "[start, end] = parseLog(cursor, '004')\n",
    "numRuns = np.min([len(start), len(end)])\n",
    "start = start[0:numRuns]\n",
    "end = end[0:numRuns]\n",
    "\n",
    "savePowIn =[]\n",
    "numRuns = 4\n",
    "\n",
    "start1 = start[len(savePowIn):numRuns]\n",
    "end1 = end[len(savePowIn):numRuns]\n",
    "\n",
    "#rtdOut = rtdVect(cursor, t3, start, end)\n",
    "\n",
    "flowOut = flowVect(cursor, t1, t2, t3, start1, end1)\n",
    "\n",
    "powerIn = inputPowerVect(start1,end1)\n",
    "powerIn = savePowIn + powerIn"
   ]
  },
  {
   "cell_type": "code",
   "execution_count": 8,
   "metadata": {
    "collapsed": false
   },
   "outputs": [],
   "source": [
    "savePowIn = powerIn\n",
    "powerOut = flowOut[-1]\n"
   ]
  },
  {
   "cell_type": "code",
   "execution_count": 9,
   "metadata": {
    "collapsed": false
   },
   "outputs": [],
   "source": [
    "powIn = flowOut[-2]\n",
    "powOut = flowOut[-1]\n",
    "pOutAvg = (np.array(powIn) + np.array(powOut)) / 2."
   ]
  },
  {
   "cell_type": "code",
   "execution_count": 17,
   "metadata": {
    "collapsed": false
   },
   "outputs": [
    {
     "data": {
      "text/plain": [
       "<matplotlib.text.Text at 0x7f7d6199d4d0>"
      ]
     },
     "execution_count": 17,
     "metadata": {},
     "output_type": "execute_result"
    },
    {
     "data": {
      "image/png": "[encoded data removed]",
      "text/plain": [
       "<matplotlib.figure.Figure at 0x7f7d7901f150>"
      ]
     },
     "metadata": {},
     "output_type": "display_data"
    }
   ],
   "source": [
    "sns.set_style(\"white\")\n",
    "sns.set_style(\"ticks\")\n",
    "\n",
    "fig, ax = plt.subplots(figsize=(11, 6))\n",
    "plt.scatter(powerIn, np.array(powOut),color='r')\n",
    "plt.scatter(powerIn, np.array(powIn))\n",
    "plt.grid(axis='y',color='grey', linestyle='--', lw=0.5, alpha=0.5)\n",
    "plt.grid(axis='x',color='grey', linestyle='--', lw=0.5, alpha=0.5)\n",
    "sns.despine(trim=True, left=True, bottom=True)\n",
    "plt.xlabel('\\nPower In $(W)$', fontsize=18)\n",
    "plt.ylabel('\\nPower Out $(W)$', fontsize=18)\n"
   ]
  },
  {
   "cell_type": "code",
   "execution_count": 16,
   "metadata": {
    "collapsed": false
   },
   "outputs": [
    {
     "data": {
      "text/plain": [
       "[nan, 30.269903106829048, 50.10246526832036, 88.59499210652525]"
      ]
     },
     "execution_count": 16,
     "metadata": {},
     "output_type": "execute_result"
    }
   ],
   "source": [
    "powerIn"
   ]
  },
  {
   "cell_type": "code",
   "execution_count": 12,
   "metadata": {
    "collapsed": false
   },
   "outputs": [
    {
     "data": {
      "text/plain": [
       "[25.66855056905813, 42.827313558287109, 60.849060773004524, 91.449491962802128]"
      ]
     },
     "execution_count": 12,
     "metadata": {},
     "output_type": "execute_result"
    }
   ],
   "source": [
    "powerOut"
   ]
  },
  {
   "cell_type": "code",
   "execution_count": null,
   "metadata": {
    "collapsed": true
   },
   "outputs": [],
   "source": []
  },
  {
   "cell_type": "code",
   "execution_count": null,
   "metadata": {
    "collapsed": true
   },
   "outputs": [],
   "source": []
  },
  {
   "cell_type": "code",
   "execution_count": 18,
   "metadata": {
    "collapsed": false
   },
   "outputs": [
    {
     "data": {
      "text/plain": [
       "<matplotlib.text.Text at 0x7f7d618d2710>"
      ]
     },
     "execution_count": 18,
     "metadata": {},
     "output_type": "execute_result"
    },
    {
     "data": {
      "image/png": "[encoded data removed]",
      "text/plain": [
       "<matplotlib.figure.Figure at 0x7f7db00539d0>"
      ]
     },
     "metadata": {},
     "output_type": "display_data"
    }
   ],
   "source": [
    "%matplotlib inline\n",
    "\n",
    "# These are the \"Tableau 20\" colors as RGB.    \n",
    "tableau20 = [(31, 119, 180), (174, 199, 232), (255, 127, 14), (255, 187, 120),    \n",
    "             (44, 160, 44), (152, 223, 138), (214, 39, 40), (255, 152, 150),    \n",
    "             (148, 103, 189), (197, 176, 213), (140, 86, 75), (196, 156, 148),    \n",
    "             (227, 119, 194), (247, 182, 210), (127, 127, 127), (199, 199, 199),    \n",
    "             (188, 189, 34), (219, 219, 141), (23, 190, 207), (158, 218, 229)]    \n",
    "  \n",
    "# Scale the RGB values to the [0, 1] range, which is the format matplotlib accepts.    \n",
    "for i in range(len(tableau20)):    \n",
    "    r, g, b = tableau20[i]    \n",
    "    tableau20[i] = (r / 255., g / 255., b / 255.)    \n",
    "    \n",
    "    \n",
    "sns.set_style(\"white\")\n",
    "sns.set_style(\"ticks\")\n",
    "\n",
    "fig, ax = plt.subplots(figsize=(11, 6))\n",
    "ax.scatter(powerIn, (pOutAvg), color=tableau20[0])\n",
    "# fitIn = np.arange(0,300)\n",
    "# ax.scatter(fitIn, slope*fitIn, color = tableau20[8])\n",
    "plt.grid(axis='y',color='grey', linestyle='--', lw=0.5, alpha=0.5)\n",
    "plt.grid(axis='x',color='grey', linestyle='--', lw=0.5, alpha=0.5)\n",
    "sns.despine(trim=True, left=True, bottom=True)\n",
    "ax = sns.regplot(x=np.array(powerIn), y=np.array(pOutAvg), ci=99, line_kws={'lw': 2}, color=tableau20[6], scatter=False)\n",
    "plt.xlabel('\\nPower In $(W)$', fontsize=18)\n",
    "plt.ylabel('\\nPower Out $(W)$', fontsize=18)\n",
    "# plt.xlabel('')\n",
    "# plt.ylabel('')\n"
   ]
  },
  {
   "cell_type": "code",
   "execution_count": 1,
   "metadata": {
    "collapsed": false
   },
   "outputs": [
    {
     "ename": "NameError",
     "evalue": "name 'powerIn' is not defined",
     "output_type": "error",
     "traceback": [
      "\u001b[1;31m---------------------------------------------------------------------------\u001b[0m",
      "\u001b[1;31mNameError\u001b[0m                                 Traceback (most recent call last)",
      "\u001b[1;32m<ipython-input-1-cd9066643861>\u001b[0m in \u001b[0;36m<module>\u001b[1;34m()\u001b[0m\n\u001b[1;32m----> 1\u001b[1;33m \u001b[0mpowerIn\u001b[0m\u001b[1;33m\u001b[0m\u001b[0m\n\u001b[0m",
      "\u001b[1;31mNameError\u001b[0m: name 'powerIn' is not defined"
     ]
    }
   ],
   "source": [
    "powerIn"
   ]
  },
  {
   "cell_type": "code",
   "execution_count": 73,
   "metadata": {
    "collapsed": false
   },
   "outputs": [
    {
     "data": {
      "text/plain": [
       "70"
      ]
     },
     "execution_count": 73,
     "metadata": {},
     "output_type": "execute_result"
    }
   ],
   "source": [
    "len(powerIn)"
   ]
  },
  {
   "cell_type": "code",
   "execution_count": 23,
   "metadata": {
    "collapsed": false
   },
   "outputs": [],
   "source": [
    "vPI = [powerIn[i] for i in np.arange(0,13)]\n",
    "vPO = [powOut[i] for i in np.arange(0,13)]\n",
    "aPI = [powerIn[i] for i in np.arange(14,-1)]\n",
    "aPO = [powOut[i] for i in np.arange(14,-1)]\n",
    "\n",
    "vPI = np.array(vPI)\n",
    "vPO = np.array(vPO)\n",
    "aPI = np.array(aPI)\n",
    "aPO = np.array(aPO)"
   ]
  },
  {
   "cell_type": "code",
   "execution_count": 24,
   "metadata": {
    "collapsed": false
   },
   "outputs": [],
   "source": [
    "vPI = (vPI + vPO) / 2.\n",
    "aPI = (aPI + aPO) / 2.\n"
   ]
  },
  {
   "cell_type": "code",
   "execution_count": 25,
   "metadata": {
    "collapsed": false
   },
   "outputs": [
    {
     "data": {
      "text/plain": [
       "(0, 300)"
      ]
     },
     "execution_count": 25,
     "metadata": {},
     "output_type": "execute_result"
    },
    {
     "data": {
      "image/png": "[encoded data removed]",
      "text/plain": [
       "<matplotlib.figure.Figure at 0x7f87116f9dd0>"
      ]
     },
     "metadata": {},
     "output_type": "display_data"
    }
   ],
   "source": [
    "\n",
    "%matplotlib inline\n",
    "\n",
    "# These are the \"Tableau 20\" colors as RGB.    \n",
    "tableau20 = [(31, 119, 180), (174, 199, 232), (255, 127, 14), (255, 187, 120),    \n",
    "             (44, 160, 44), (152, 223, 138), (214, 39, 40), (255, 152, 150),    \n",
    "             (148, 103, 189), (197, 176, 213), (140, 86, 75), (196, 156, 148),    \n",
    "             (227, 119, 194), (247, 182, 210), (127, 127, 127), (199, 199, 199),    \n",
    "             (188, 189, 34), (219, 219, 141), (23, 190, 207), (158, 218, 229)]    \n",
    "  \n",
    "# Scale the RGB values to the [0, 1] range, which is the format matplotlib accepts.    \n",
    "for i in range(len(tableau20)):    \n",
    "    r, g, b = tableau20[i]    \n",
    "    tableau20[i] = (r / 255., g / 255., b / 255.)    \n",
    "    \n",
    "    \n",
    "sns.set_style(\"white\")\n",
    "sns.set_style(\"ticks\")\n",
    "\n",
    "fig, ax = plt.subplots(figsize=(11, 6))\n",
    "ax.scatter(vPI, vPO, color=tableau20[0])\n",
    "ax.scatter(aPI, aPO, color=tableau20[2])\n",
    "#ax = sns.regplot(x=np.array(powerIn), y=np.array(powOut), ci=99, line_kws={'lw': 2}, color=tableau20[6], scatter=False)\n",
    "plt.grid(axis='y',color='grey', linestyle='--', lw=0.5, alpha=0.5)\n",
    "plt.grid(axis='x',color='grey', linestyle='--', lw=0.5, alpha=0.5)\n",
    "sns.despine(trim=True, left=True, bottom=True)\n",
    "plt.xlabel('\\nPower In $(W)$', fontsize=18)\n",
    "plt.ylabel('\\nPower Out $(W)$', fontsize=18)\n",
    "plt.xlim(0,300)\n",
    "# plt.xlabel('')\n",
    "# plt.ylabel('')\n"
   ]
  },
  {
   "cell_type": "code",
   "execution_count": 55,
   "metadata": {
    "collapsed": false
   },
   "outputs": [
    {
     "name": "stdout",
     "output_type": "stream",
     "text": [
      "slope = 0.872004\tintercept = 15.929056\n",
      "\n"
     ]
    }
   ],
   "source": [
    "par = np.polyfit(powerIn, pOutAvg, 1, full=True)\n",
    "slope = par[0][0]\n",
    "intercept = par[0][1]\n",
    "print 'slope = %f\\tintercept = %f\\n'%(slope, intercept)"
   ]
  },
  {
   "cell_type": "code",
   "execution_count": 27,
   "metadata": {
    "collapsed": false
   },
   "outputs": [
    {
     "data": {
      "text/html": [
       "<table class=\"simpletable\">\n",
       "<caption>OLS Regression Results</caption>\n",
       "<tr>\n",
       "  <th>Dep. Variable:</th>            <td>y</td>        <th>  R-squared:         </th> <td>   0.987</td>\n",
       "</tr>\n",
       "<tr>\n",
       "  <th>Model:</th>                   <td>OLS</td>       <th>  Adj. R-squared:    </th> <td>   0.987</td>\n",
       "</tr>\n",
       "<tr>\n",
       "  <th>Method:</th>             <td>Least Squares</td>  <th>  F-statistic:       </th> <td>   4283.</td>\n",
       "</tr>\n",
       "<tr>\n",
       "  <th>Date:</th>             <td>Mon, 04 Jul 2016</td> <th>  Prob (F-statistic):</th> <td>7.34e-54</td>\n",
       "</tr>\n",
       "<tr>\n",
       "  <th>Time:</th>                 <td>13:20:48</td>     <th>  Log-Likelihood:    </th> <td> -219.66</td>\n",
       "</tr>\n",
       "<tr>\n",
       "  <th>No. Observations:</th>      <td>    56</td>      <th>  AIC:               </th> <td>   441.3</td>\n",
       "</tr>\n",
       "<tr>\n",
       "  <th>Df Residuals:</th>          <td>    55</td>      <th>  BIC:               </th> <td>   443.4</td>\n",
       "</tr>\n",
       "<tr>\n",
       "  <th>Df Model:</th>              <td>     1</td>      <th>                     </th>     <td> </td>   \n",
       "</tr>\n",
       "<tr>\n",
       "  <th>Covariance Type:</th>      <td>nonrobust</td>    <th>                     </th>     <td> </td>   \n",
       "</tr>\n",
       "</table>\n",
       "<table class=\"simpletable\">\n",
       "<tr>\n",
       "   <td></td>     <th>coef</th>     <th>std err</th>      <th>t</th>      <th>P>|t|</th> <th>[95.0% Conf. Int.]</th> \n",
       "</tr>\n",
       "<tr>\n",
       "  <th>x1</th> <td>    0.9264</td> <td>    0.014</td> <td>   65.448</td> <td> 0.000</td> <td>    0.898     0.955</td>\n",
       "</tr>\n",
       "</table>\n",
       "<table class=\"simpletable\">\n",
       "<tr>\n",
       "  <th>Omnibus:</th>       <td>22.189</td> <th>  Durbin-Watson:     </th> <td>   0.938</td>\n",
       "</tr>\n",
       "<tr>\n",
       "  <th>Prob(Omnibus):</th> <td> 0.000</td> <th>  Jarque-Bera (JB):  </th> <td>  30.234</td>\n",
       "</tr>\n",
       "<tr>\n",
       "  <th>Skew:</th>          <td>-1.531</td> <th>  Prob(JB):          </th> <td>2.72e-07</td>\n",
       "</tr>\n",
       "<tr>\n",
       "  <th>Kurtosis:</th>      <td> 4.893</td> <th>  Cond. No.          </th> <td>    1.00</td>\n",
       "</tr>\n",
       "</table>"
      ],
      "text/plain": [
       "<class 'statsmodels.iolib.summary.Summary'>\n",
       "\"\"\"\n",
       "                            OLS Regression Results                            \n",
       "==============================================================================\n",
       "Dep. Variable:                      y   R-squared:                       0.987\n",
       "Model:                            OLS   Adj. R-squared:                  0.987\n",
       "Method:                 Least Squares   F-statistic:                     4283.\n",
       "Date:                Mon, 04 Jul 2016   Prob (F-statistic):           7.34e-54\n",
       "Time:                        13:20:48   Log-Likelihood:                -219.66\n",
       "No. Observations:                  56   AIC:                             441.3\n",
       "Df Residuals:                      55   BIC:                             443.4\n",
       "Df Model:                           1                                         \n",
       "Covariance Type:            nonrobust                                         \n",
       "==============================================================================\n",
       "                 coef    std err          t      P>|t|      [95.0% Conf. Int.]\n",
       "------------------------------------------------------------------------------\n",
       "x1             0.9264      0.014     65.448      0.000         0.898     0.955\n",
       "==============================================================================\n",
       "Omnibus:                       22.189   Durbin-Watson:                   0.938\n",
       "Prob(Omnibus):                  0.000   Jarque-Bera (JB):               30.234\n",
       "Skew:                          -1.531   Prob(JB):                     2.72e-07\n",
       "Kurtosis:                       4.893   Cond. No.                         1.00\n",
       "==============================================================================\n",
       "\n",
       "Warnings:\n",
       "[1] Standard Errors assume that the covariance matrix of the errors is correctly specified.\n",
       "\"\"\""
      ]
     },
     "execution_count": 27,
     "metadata": {},
     "output_type": "execute_result"
    }
   ],
   "source": [
    "import statsmodels.api as sm\n",
    "linearFitModel = sm.OLS(powerOut, powerIn).fit()\n",
    "linearFitModel.summary()"
   ]
  },
  {
   "cell_type": "code",
   "execution_count": 54,
   "metadata": {
    "collapsed": false
   },
   "outputs": [
    {
     "data": {
      "text/plain": [
       "1e-10"
      ]
     },
     "execution_count": 54,
     "metadata": {},
     "output_type": "execute_result"
    }
   ],
   "source": [
    "10e-11"
   ]
  }
 ],
 "metadata": {
  "kernelspec": {
   "display_name": "Python [Root]",
   "language": "python",
   "name": "Python [Root]"
  },
  "language_info": {
   "codemirror_mode": {
    "name": "ipython",
    "version": 2
   },
   "file_extension": ".py",
   "mimetype": "text/x-python",
   "name": "python",
   "nbconvert_exporter": "python",
   "pygments_lexer": "ipython2",
   "version": "2.7.12"
  }
 },
 "nbformat": 4,
 "nbformat_minor": 0
}
