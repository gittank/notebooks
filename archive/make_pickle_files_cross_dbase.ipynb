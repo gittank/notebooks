{
 "cells": [
  {
   "cell_type": "code",
   "execution_count": 53,
   "metadata": {
    "collapsed": false
   },
   "outputs": [],
   "source": [
    "%run 'import_dbase.ipynb'\n",
    "%run 'import_pickle.ipynb'\n",
    "dBase = 'rct008'\n",
    "dBase_alt = 'rct007b'\n",
    "run = '003'\n",
    "run_alt = '004'\n",
    "cursor = connectDbase(dBase)\n",
    "picklePath = './Data/' + dBase + '/'"
   ]
  },
  {
   "cell_type": "code",
   "execution_count": 66,
   "metadata": {
    "collapsed": false
   },
   "outputs": [],
   "source": [
    "run = ['002', '003']\n",
    "pickleLogFile(cursor, dBase, run, picklePath, forceWrite=True)"
   ]
  },
  {
   "cell_type": "code",
   "execution_count": 52,
   "metadata": {
    "collapsed": true
   },
   "outputs": [],
   "source": [
    "def pickleCrossDbaseSensorFiles(cursor, dbase, dbase_alt, run, path, forceWrite = False):\n",
    "    print path+dbase+'_log.pkl'\n",
    "    log = pd.read_pickle(path+dbase+'_log.pkl')\n",
    "\n",
    "    # find the last event id stored to pickle\n",
    "    dirList = os.listdir(path)\n",
    "    pklFileList = [s for s in dirList if 'pkl' in s and not '_log.pkl' in s]\n",
    "    \n",
    "    temp = [x.split('_')[-1] for x in pklFileList] \n",
    "    storedEvent = 0\n",
    "    if temp:\n",
    "        storedEvent = max([int(x.split('.')[0]) for x in temp])\n",
    "    \n",
    "    for eventId in log.eventId.unique():\n",
    "        if forceWrite or (eventId>storedEvent):\n",
    "            s = str(log[(log.eventId==eventId) & (log.state =='1')].date.values[0])    \n",
    "            e = str(log[(log.eventId==eventId) & (log.state =='0')].date.values[0])    \n",
    "            pickleCrossEvent(dbase, dbase_alt, run, s, e, eventId, path)"
   ]
  },
  {
   "cell_type": "code",
   "execution_count": 35,
   "metadata": {
    "collapsed": false
   },
   "outputs": [],
   "source": [
    "def pickleCrossEvent(dbase, dbase_alt, run, start, end, event, path):\n",
    "    cursor = connectDbase(dbase_alt)\n",
    "\n",
    "    # get table names, remove non data tables\n",
    "#     tbNameList = tableName(run)[1:-1]\n",
    "#     if dbase == 'rct008':\n",
    "#         tbNameList = tableName(run)[3:-1]\n",
    "    tbNameList = [run+'_plcdata']\n",
    "\n",
    "    for tbName in tbNameList:\n",
    "        # read table\n",
    "        dfTable = readDateTable(cursor, tbName, start, end)\n",
    "        \n",
    "        # if it is not empty make a pickel file for each sensor\n",
    "        if len(dfTable) != 0:\n",
    "            # get rid of date\n",
    "            dfTable.drop('date', axis=1, inplace=True)\n",
    "            colList = [col for col in dfTable.columns if 'rtd' in col]\n",
    "            for col in colList:\n",
    "                filename = path+dbase+'_'+run+'_'+dbase_alt+'_'+col+'_'+str(event)+'.pkl'\n",
    "                if len(dfTable[col]) !=0:\n",
    "                    print 'Pickling %s \\n'%filename\n",
    "                    pd.DataFrame(dfTable[col]).to_pickle(filename)\n",
    "                else:\n",
    "                    print 'Event: %d Run: %s Sensor: %s is null'%(event, run, col)            \n",
    "        else:\n",
    "            #if it's empty print this an keep going\n",
    "            print 'Table: %s is empty.\\n'%tbName"
   ]
  },
  {
   "cell_type": "code",
   "execution_count": null,
   "metadata": {
    "collapsed": true
   },
   "outputs": [],
   "source": []
  },
  {
   "cell_type": "code",
   "execution_count": null,
   "metadata": {
    "collapsed": true
   },
   "outputs": [],
   "source": []
  },
  {
   "cell_type": "code",
   "execution_count": null,
   "metadata": {
    "collapsed": true
   },
   "outputs": [],
   "source": []
  },
  {
   "cell_type": "code",
   "execution_count": 454,
   "metadata": {
    "collapsed": true
   },
   "outputs": [],
   "source": [
    "#RTD Temperatures\n",
    "def pickleCrossEvent(dbase, dbase_alt, run, start, end, event, path):\n",
    "    cursor = connectDbase(dbase_alt)\n",
    "\n",
    "    # get table names, remove non data tables\n",
    "#     tbNameList = tableName(run)[1:-1]\n",
    "#     if dbase == 'rct008':\n",
    "#         tbNameList = tableName(run)[3:-1]\n",
    "    tbNameList = [run+'_plcdata']\n",
    "\n",
    "    for tbName in tbNameList:\n",
    "        # read table\n",
    "        dfTable = readDateTable(cursor, tbName, start, end)\n",
    "        \n",
    "        # if it is not empty make a pickel file for each sensor\n",
    "        if len(dfTable) != 0:\n",
    "            # get rid of date\n",
    "            dfTable.drop('date', axis=1, inplace=True)\n",
    "            colList = [col for col in dfTable.columns if 'rtd' in col]\n",
    "            for col in colList:\n",
    "                filename = path+dbase_alt+'_'+run+'_'+'activation'+'_'+col+'_'+str(event)+'.pkl'\n",
    "                if len(dfTable[col]) !=0:\n",
    "                    print 'Pickling %s \\n'%filename\n",
    "                    pd.DataFrame(dfTable[col]).to_pickle(filename)\n",
    "                else:\n",
    "                    print 'Event: %d Run: %s Sensor: %s is null'%(event, run, col)            \n",
    "        else:\n",
    "            #if it's empty print this an keep going\n",
    "            print 'Table: %s is empty.\\n'%tbName"
   ]
  },
  {
   "cell_type": "code",
   "execution_count": 455,
   "metadata": {
    "collapsed": false
   },
   "outputs": [
    {
     "name": "stdout",
     "output_type": "stream",
     "text": [
      "Pickling ./Data/rct008/rct008_003_activation_rct_rtd1_2016091417.pkl \n",
      "\n",
      "Pickling ./Data/rct008/rct008_003_activation_rct_rtd2_2016091417.pkl \n",
      "\n",
      "Pickling ./Data/rct008/rct008_003_activation_rct_rtd3_2016091417.pkl \n",
      "\n",
      "Pickling ./Data/rct008/rct008_003_activation_rct_rtd4_2016091417.pkl \n",
      "\n",
      "Pickling ./Data/rct008/rct008_003_activation_rct_rtd5_2016091417.pkl \n",
      "\n",
      "Pickling ./Data/rct008/rct008_003_activation_rct_rtd6_2016091417.pkl \n",
      "\n",
      "Pickling ./Data/rct008/rct008_003_activation_amb_rtd1_2016091417.pkl \n",
      "\n",
      "Pickling ./Data/rct008/rct008_003_activation_amb_rtd2_2016091417.pkl \n",
      "\n",
      "Pickling ./Data/rct008/rct008_003_activation_rct_rtd7_2016091417.pkl \n",
      "\n",
      "Pickling ./Data/rct008/rct008_003_activation_rct_rtd8_2016091417.pkl \n",
      "\n",
      "Pickling ./Data/rct008/rct008_003_activation_rct_rtd9_2016091417.pkl \n",
      "\n",
      "Pickling ./Data/rct008/rct008_003_activation_rct_rtd10_2016091417.pkl \n",
      "\n",
      "Pickling ./Data/rct008/rct008_003_activation_amb_rtd3_2016091417.pkl \n",
      "\n",
      "Pickling ./Data/rct008/rct008_003_activation_rct_rtd1Copy_2016091417.pkl \n",
      "\n",
      "Pickling ./Data/rct008/rct008_003_activation_rct_rtd2Copy_2016091417.pkl \n",
      "\n",
      "Pickling ./Data/rct008/rct008_003_activation_rct_rtd3Copy_2016091417.pkl \n",
      "\n",
      "Pickling ./Data/rct008/rct008_003_activation_rct_rtd4Copy_2016091417.pkl \n",
      "\n",
      "Pickling ./Data/rct008/rct008_003_activation_rct_rtd5Copy_2016091417.pkl \n",
      "\n",
      "Pickling ./Data/rct008/rct008_003_activation_rct_rtd6Copy_2016091417.pkl \n",
      "\n",
      "Pickling ./Data/rct008/rct008_003_activation_rct_rtd7Copy_2016091417.pkl \n",
      "\n",
      "Pickling ./Data/rct008/rct008_003_activation_rct_rtd8Copy_2016091417.pkl \n",
      "\n",
      "Pickling ./Data/rct008/rct008_003_activation_rct_rtd9Copy_2016091417.pkl \n",
      "\n",
      "Pickling ./Data/rct008/rct008_003_activation_rct_rtd10Copy_2016091417.pkl \n",
      "\n"
     ]
    }
   ],
   "source": [
    "dbase = 'rct008'\n",
    "dbase_alt='rct008'\n",
    "run = '003'\n",
    "start = '2016-09-14 17:00:00'\n",
    "end = '2016-09-14 17:15:00'\n",
    "event = 2016091417\n",
    "path = './Data/' + dbase +'/'\n",
    "pickleCrossEvent(dbase, dbase_alt, run, start, end, event, path)"
   ]
  },
  {
   "cell_type": "code",
   "execution_count": null,
   "metadata": {
    "collapsed": true
   },
   "outputs": [],
   "source": []
  },
  {
   "cell_type": "code",
   "execution_count": null,
   "metadata": {
    "collapsed": true
   },
   "outputs": [],
   "source": []
  },
  {
   "cell_type": "code",
   "execution_count": 458,
   "metadata": {
    "collapsed": true
   },
   "outputs": [],
   "source": [
    "# High voltages \n",
    "def pickleCrossEvent(dbase, dbase_alt, run, start, end, event, path):\n",
    "    cursor = connectDbase(dbase_alt)\n",
    "\n",
    "    # get table names, remove non data tables\n",
    "#     tbNameList = tableName(run)[1:-1]\n",
    "#     if dbase == 'rct008':\n",
    "#         tbNameList = tableName(run)[3:-1]\n",
    "#     tbNameList = [run+'_voltagedata']\n",
    "    tbNameList = ['004_voltagedata']\n",
    "\n",
    "    for tbName in tbNameList:\n",
    "        # read table\n",
    "        dfTable = readDateTable(cursor, tbName, start, end)\n",
    "        \n",
    "        # if it is not empty make a pickel file for each sensor\n",
    "        if len(dfTable) != 0:\n",
    "            # get rid of date\n",
    "            dfTable.drop('date', axis=1, inplace=True)\n",
    "            colList = [col for col in dfTable.columns if 'v6' in col]\n",
    "            for col in colList:\n",
    "                filename = path+dbase+'_'+run+'_'+'activation'+'_'+col+'_'+str(event)+'_'+str(part)+'.pkl'\n",
    "                \n",
    "                if len(dfTable[col]) !=0:\n",
    "                    print 'Pickling %s \\n'%filename\n",
    "                    pd.DataFrame(dfTable[col]).to_pickle(filename)\n",
    "                else:\n",
    "                    print 'Event: %d Run: %s Sensor: %s is null'%(event, run, col)            \n",
    "        else:\n",
    "            #if it's empty print this an keep going\n",
    "            print 'Table: %s is empty.\\n'%tbName"
   ]
  },
  {
   "cell_type": "code",
   "execution_count": 459,
   "metadata": {
    "collapsed": false
   },
   "outputs": [
    {
     "name": "stdout",
     "output_type": "stream",
     "text": [
      "Pickling ./Data/rct008/rct008_003_activation_v6_2016091417_0.pkl \n",
      "\n"
     ]
    }
   ],
   "source": [
    "dbase = 'rct008'\n",
    "dbase_alt='rct007b'\n",
    "run = '003'\n",
    "start = '2016-09-14 17:00:00'\n",
    "end = '2016-09-14 17:15:00'\n",
    "event = 2016091417\n",
    "part = 0\n",
    "path = './Data/' + dbase +'/'\n",
    "pickleCrossEvent(dbase, dbase_alt, run, start, end, event, path)"
   ]
  },
  {
   "cell_type": "code",
   "execution_count": 433,
   "metadata": {
    "collapsed": false
   },
   "outputs": [
    {
     "name": "stdout",
     "output_type": "stream",
     "text": [
      "Pickling ./Data/rct008/rct008_002_activation_v3_2016091620_44.pkl \n",
      "\n"
     ]
    }
   ],
   "source": [
    "dbase = 'rct008'\n",
    "dbase_alt='rct007b'\n",
    "run = '002'\n",
    "start = '2016-09-17 18:00:00'\n",
    "end = '2016-09-17 18:30:00'\n",
    "event = 2016091620\n",
    "part = 44\n",
    "path = './Data/' + dbase +'/'\n",
    "pickleCrossEvent(dbase, dbase_alt, run, start, end, event, path)"
   ]
  },
  {
   "cell_type": "code",
   "execution_count": null,
   "metadata": {
    "collapsed": true
   },
   "outputs": [],
   "source": []
  },
  {
   "cell_type": "code",
   "execution_count": null,
   "metadata": {
    "collapsed": true
   },
   "outputs": [],
   "source": []
  },
  {
   "cell_type": "code",
   "execution_count": 462,
   "metadata": {
    "collapsed": true
   },
   "outputs": [],
   "source": [
    "# heater voltages \n",
    "def pickleCrossEvent(dbase, dbase_alt, run, start, end, event, path):\n",
    "    cursor = connectDbase(dbase_alt)\n",
    "\n",
    "    # get table names, remove non data tables\n",
    "#     tbNameList = tableName(run)[1:-1]\n",
    "#     if dbase == 'rct008':\n",
    "#         tbNameList = tableName(run)[3:-1]\n",
    "    tbNameList = [run+'_voltagedata']\n",
    "\n",
    "    for tbName in tbNameList:\n",
    "        # read table\n",
    "        dfTable = readDateTable(cursor, tbName, start, end)\n",
    "        \n",
    "        # if it is not empty make a pickel file for each sensor\n",
    "        if len(dfTable) != 0:\n",
    "            # get rid of date\n",
    "            dfTable.drop('date', axis=1, inplace=True)\n",
    "            colList = [col for col in dfTable.columns if 'v1' in col]\n",
    "            for col in colList:\n",
    "                filename = path+dbase+'_'+run+'_'+'activation'+'_'+col+'_'+str(event)+'_'+str(part)+'.pkl'\n",
    "                \n",
    "                if len(dfTable[col]) !=0:\n",
    "                    print 'Pickling %s \\n'%filename\n",
    "                    pd.DataFrame(dfTable[col]).to_pickle(filename)\n",
    "                else:\n",
    "                    print 'Event: %d Run: %s Sensor: %s is null'%(event, run, col)            \n",
    "        else:\n",
    "            #if it's empty print this an keep going\n",
    "            print 'Table: %s is empty.\\n'%tbName"
   ]
  },
  {
   "cell_type": "code",
   "execution_count": 463,
   "metadata": {
    "collapsed": false
   },
   "outputs": [
    {
     "name": "stdout",
     "output_type": "stream",
     "text": [
      "Pickling ./Data/rct008/rct008_003_activation_v1_2016091417_0.pkl \n",
      "\n"
     ]
    }
   ],
   "source": [
    "dbase = 'rct008'\n",
    "dbase_alt='rct008'\n",
    "run = '003'\n",
    "start = '2016-09-14 17:00:00'\n",
    "end = '2016-09-14 17:15:00'\n",
    "event = 2016091417\n",
    "part = 0\n",
    "path = './Data/' + dbase +'/'\n",
    "pickleCrossEvent(dbase, dbase_alt, run, start, end, event, path)"
   ]
  },
  {
   "cell_type": "code",
   "execution_count": 325,
   "metadata": {
    "collapsed": false
   },
   "outputs": [
    {
     "name": "stdout",
     "output_type": "stream",
     "text": [
      "Pickling ./Data/rct008/rct008_002_activation_v4_2016090818_1.pkl \n",
      "\n"
     ]
    }
   ],
   "source": [
    "dbase = 'rct008'\n",
    "dbase_alt='rct008'\n",
    "run = '002'\n",
    "start = '2016-09-10 22:00:00'\n",
    "end = '2016-09-10 22:30:00'\n",
    "event = 2016090818\n",
    "part = 1\n",
    "path = './Data/' + dbase +'/'\n",
    "pickleCrossEvent(dbase, dbase_alt, run, start, end, event, path)"
   ]
  },
  {
   "cell_type": "code",
   "execution_count": null,
   "metadata": {
    "collapsed": true
   },
   "outputs": [],
   "source": []
  }
 ],
 "metadata": {
  "kernelspec": {
   "display_name": "Python [Root]",
   "language": "python",
   "name": "Python [Root]"
  },
  "language_info": {
   "codemirror_mode": {
    "name": "ipython",
    "version": 2
   },
   "file_extension": ".py",
   "mimetype": "text/x-python",
   "name": "python",
   "nbconvert_exporter": "python",
   "pygments_lexer": "ipython2",
   "version": "2.7.12"
  }
 },
 "nbformat": 4,
 "nbformat_minor": 0
}
